{
 "cells": [
  {
   "cell_type": "markdown",
   "id": "f82156c9",
   "metadata": {},
   "source": [
    "Source [Kaggle Iris](https://www.kaggle.com/uciml/iris)\n"
   ]
  },
  {
   "cell_type": "code",
   "execution_count": null,
   "id": "9796f468-014b-47e3-82fd-38d2169d8168",
   "metadata": {},
   "outputs": [],
   "source": [
    "!pip install seaborn scikit-learn pandas numpy matplotlib"
   ]
  },
  {
   "cell_type": "code",
   "execution_count": null,
   "id": "c085aff9",
   "metadata": {},
   "outputs": [],
   "source": [
    "import pandas as pd\n",
    "import numpy as np\n",
    "import matplotlib.pyplot as plt\n",
    "import seaborn as sns\n",
    "from sklearn.linear_model import LogisticRegression\n",
    "from sklearn.model_selection import train_test_split\n",
    "from sklearn.svm import SVC\n",
    "from sklearn.metrics import classification_report\n",
    "# k-fold\n",
    "np.random.seed(123)"
   ]
  },
  {
   "cell_type": "code",
   "execution_count": null,
   "id": "a011b019",
   "metadata": {},
   "outputs": [],
   "source": [
    "filename = 'iris.csv'\n",
    "#seaborn.set(style='ticks')\n",
    "df = pd.read_csv(filename)"
   ]
  },
  {
   "cell_type": "code",
   "execution_count": null,
   "id": "59b8d228",
   "metadata": {},
   "outputs": [],
   "source": [
    "df.describe()"
   ]
  },
  {
   "cell_type": "code",
   "execution_count": null,
   "id": "df75b59e",
   "metadata": {},
   "outputs": [],
   "source": [
    "df.head()"
   ]
  },
  {
   "cell_type": "markdown",
   "id": "04a6846d",
   "metadata": {},
   "source": [
    "Using all the for values yields very good results"
   ]
  },
  {
   "cell_type": "code",
   "execution_count": null,
   "id": "1a6962cb-180c-4d7c-9422-7275f5e35fd8",
   "metadata": {},
   "outputs": [],
   "source": [
    "df.plot(x=\"SepalLengthCm\", y=\"SepalWidthCm\", kind=\"scatter\");\n",
    "# this shows the relation in all the dataset, but this does not help a lot"
   ]
  },
  {
   "cell_type": "code",
   "execution_count": null,
   "id": "6a3cbab0-706c-486c-9c25-163a054d8b6a",
   "metadata": {},
   "outputs": [],
   "source": [
    "sns.scatterplot(x=\"SepalLengthCm\", y=\"SepalWidthCm\", hue=\"Species\", data=df);\n",
    "# Now we can see the 3 differnt types of iris\n",
    "# In this plot we can see that the setosa could be relatively easily set aside from the rest (except that outlier at the bottom left)\n",
    "# We could remove that outlier for better modelling"
   ]
  },
  {
   "cell_type": "markdown",
   "id": "ecec6a69-47c7-4ca0-9cd1-4a3de69b9171",
   "metadata": {},
   "source": [
    "Set the color manually"
   ]
  },
  {
   "cell_type": "code",
   "execution_count": null,
   "id": "afc942c1-c205-4e10-a34f-830510e1ee0f",
   "metadata": {},
   "outputs": [],
   "source": [
    "palette = {\"Iris-setosa\":\"tab:cyan\",\n",
    "           \"Iris-versicolor\":\"tab:orange\",\n",
    "           \"Iris-virginica\":\"tab:purple\"}\n",
    "sns.scatterplot(x=\"SepalLengthCm\", y=\"SepalWidthCm\", hue=\"Species\", data=df, palette=palette);"
   ]
  },
  {
   "cell_type": "code",
   "execution_count": null,
   "id": "b2e8b3dd",
   "metadata": {},
   "outputs": [],
   "source": [
    "y = df[\"Species\"]\n",
    "X = df[[\"SepalLengthCm\", \"SepalWidthCm\",\"PetalLengthCm\",\"PetalWidthCm\"]]\n",
    "x_train, x_test, y_train, y_test = train_test_split(X, y, stratify=y)\n",
    "model = LogisticRegression(max_iter=200).fit(x_train, y_train)\n",
    "print('train accuracy:', model.score(x_train, y_train))\n",
    "print('test accuracy:', model.score(x_test, y_test))\n",
    "y_prediction = model.predict(x_test)\n",
    "print('test classification report:')\n",
    "print(classification_report(y_test, y_prediction))"
   ]
  },
  {
   "cell_type": "code",
   "execution_count": null,
   "id": "8f41f0cc",
   "metadata": {},
   "outputs": [],
   "source": [
    "y = df[\"Species\"]\n",
    "X = df[[\"SepalLengthCm\", \"SepalWidthCm\"]]\n",
    "x_train, x_test, y_train, y_test = train_test_split(X, y, stratify=y)"
   ]
  },
  {
   "cell_type": "code",
   "execution_count": null,
   "id": "18ab93d2",
   "metadata": {},
   "outputs": [],
   "source": [
    "model = LogisticRegression().fit(x_train, y_train)"
   ]
  },
  {
   "cell_type": "code",
   "execution_count": null,
   "id": "a84a9824",
   "metadata": {},
   "outputs": [],
   "source": [
    "print('train accuracy:', model.score(x_train, y_train))\n",
    "print('test accuracy:', model.score(x_test, y_test))\n",
    "y_prediction = model.predict(x_test)\n",
    "print('test classification report:')\n",
    "print(classification_report(y_test, y_prediction))\n",
    "# precision: how many I set setosa was really setosa\n",
    "# recall: how many of all the setosas were identified as setosas\n",
    "# This is indeed very good for setosas, but not for the other types"
   ]
  },
  {
   "cell_type": "code",
   "execution_count": null,
   "id": "ce601e31",
   "metadata": {},
   "outputs": [],
   "source": [
    "# TODO: scale features = normalize features"
   ]
  },
  {
   "cell_type": "code",
   "execution_count": null,
   "id": "03968e12",
   "metadata": {},
   "outputs": [],
   "source": [
    "g =sns.scatterplot(x=\"SepalLengthCm\",\n",
    "                   y=\"SepalWidthCm\",\n",
    "                   hue=\"Species\",\n",
    "                   data=df,\n",
    "                   palette=['green','red','blue']);\n",
    "\n",
    "x1 = - (model.intercept_[0] + model.coef_[0][1]*df.iloc[0,1])/model.coef_[0][0]\n",
    "x2 = - (model.intercept_[0] + model.coef_[0][1]*df.iloc[4,1])/model.coef_[0][0]\n",
    "plt.axline((x1, df.iloc[0,1]), (x2, df.iloc[4,1]), color = \"green\")\n",
    "\n",
    "x1 = - (model.intercept_[1] + model.coef_[1][1]*df.iloc[0,1])/model.coef_[1][0]\n",
    "x2 = - (model.intercept_[1] + model.coef_[1][1]*df.iloc[4,1])/model.coef_[1][0]\n",
    "plt.axline((x1, df.iloc[0,1]), (x2, df.iloc[4,1]), color = \"red\")\n",
    "\n",
    "\n",
    "x1 = - (model.intercept_[2] + model.coef_[2][1]*df.iloc[0,1])/model.coef_[2][0]\n",
    "x2 = - (model.intercept_[2] + model.coef_[2][1]*df.iloc[4,1])/model.coef_[2][0]\n",
    "plt.axline((x1, df.iloc[0,1]), (x2, df.iloc[4,1]), color = \"blue\");"
   ]
  },
  {
   "cell_type": "code",
   "execution_count": null,
   "id": "4d9c00a2",
   "metadata": {
    "scrolled": true
   },
   "outputs": [],
   "source": [
    "sns.scatterplot(x=\"PetalLengthCm\", y=\"PetalWidthCm\", hue=\"Species\", data=df);"
   ]
  },
  {
   "cell_type": "code",
   "execution_count": null,
   "id": "d505988b",
   "metadata": {},
   "outputs": [],
   "source": [
    "from sklearn.pipeline import Pipeline\n",
    "from sklearn.preprocessing import StandardScaler\n",
    "\n",
    "model = Pipeline([\n",
    "    (\"scaler\", StandardScaler()),\n",
    "    (\"clf\", LogisticRegression(max_iter=1_000))\n",
    "])\n",
    "\n",
    "# standard_scaler = StandardScaler()\n",
    "# x_train = standard_scaler.fit_transform(x_train)\n",
    "# x_test = standard_scaler.transform(x_test)\n",
    "\n",
    "# model = LogisticRegression()\n",
    "# model.fit(x_train, y_train)"
   ]
  },
  {
   "cell_type": "code",
   "execution_count": null,
   "id": "b44835cd",
   "metadata": {},
   "outputs": [],
   "source": [
    "y = df[\"Species\"]\n",
    "X = df[[\"SepalLengthCm\", \"SepalWidthCm\",\"PetalLengthCm\",\"PetalWidthCm\"]]\n",
    "x_train, x_test, y_train, y_test = train_test_split(X, y, stratify=y)\n",
    "\n",
    "# model = LogisticRegression(C=1, solver=\"saga\", penalty=\"l2\", max_iter=10_000)\n",
    "model.fit(x_train, y_train)\n",
    "\n",
    "print('train accuracy:', model.score(x_train, y_train))\n",
    "print('test accuracy:', model.score(x_test, y_test))\n",
    "y_prediction = model.predict(x_test)\n",
    "print('test classification report:')\n",
    "print(classification_report(y_test, y_prediction))\n",
    "# precision: how many I set setosa was really setosa\n",
    "# recall: how many of all the setosas were identified as setosas"
   ]
  },
  {
   "cell_type": "code",
   "execution_count": null,
   "id": "2b98b478",
   "metadata": {},
   "outputs": [],
   "source": [
    "model.coef_"
   ]
  }
 ],
 "metadata": {
  "kernelspec": {
   "display_name": "Python 3 (ipykernel)",
   "language": "python",
   "name": "python3"
  },
  "language_info": {
   "codemirror_mode": {
    "name": "ipython",
    "version": 3
   },
   "file_extension": ".py",
   "mimetype": "text/x-python",
   "name": "python",
   "nbconvert_exporter": "python",
   "pygments_lexer": "ipython3",
   "version": "3.12.7"
  }
 },
 "nbformat": 4,
 "nbformat_minor": 5
}
