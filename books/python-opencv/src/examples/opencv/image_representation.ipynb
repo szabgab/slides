{
 "cells": [
  {
   "cell_type": "markdown",
   "id": "8e452097",
   "metadata": {},
   "source": [
    "## RGB vs BGR"
   ]
  },
  {
   "cell_type": "code",
   "execution_count": null,
   "id": "b46f8fb2",
   "metadata": {},
   "outputs": [],
   "source": [
    "import os\n",
    "from ipyfilechooser import FileChooser\n",
    "import cv2 as cv\n",
    "import matplotlib.pyplot as plt\n",
    "import io\n",
    "import numpy as np\n",
    "from ipywidgets import interact, fixed, widgets"
   ]
  },
  {
   "cell_type": "code",
   "execution_count": null,
   "id": "9b5a2181",
   "metadata": {},
   "outputs": [],
   "source": [
    "def numpy_to_binary(arr):\n",
    "    is_success, buffer = cv.imencode(\".jpg\", arr)\n",
    "    io_buf = io.BytesIO(buffer)\n",
    "    return io_buf.read()"
   ]
  },
  {
   "cell_type": "code",
   "execution_count": null,
   "id": "0e34fa3d",
   "metadata": {},
   "outputs": [],
   "source": [
    "empty = np.zeros((500, 500, 3), dtype='uint8')\n",
    "print(empty.shape) # (100, 100, 3)\n",
    "\n",
    "display(widgets.Image(value=numpy_to_binary(empty)));"
   ]
  },
  {
   "cell_type": "markdown",
   "id": "8ddd0618",
   "metadata": {},
   "source": [
    "## BGR - Blue Green Red"
   ]
  },
  {
   "cell_type": "code",
   "execution_count": null,
   "id": "77aa911c",
   "metadata": {},
   "outputs": [],
   "source": [
    "red = 255\n",
    "green = 100\n",
    "blue = 0\n",
    "\n",
    "img = empty.copy()\n",
    "#img[:] = [blue, green, red]          # pain the whole image to a color\n",
    "\n",
    "\n",
    "#img[:] = [blue,green,red]          # pain the whole image\n",
    "#img[0:100] = [blue,green,red]      # 100 rows on the top of the image\n",
    "#img[0:100, 50:150] = [blue,green,red]      # 100 rows on the top of the image\n",
    "#img[:,0:100] = blue,green,red    # 100 columns on the left of the image\n",
    "#img[100:200, 200:300] = blue,green,red  # A square on the image\n",
    "\n",
    "#cv.line(img, (30, 70), (150, 90), color=(blue, green, red), thickness=3)\n",
    "\n",
    "#cv.rectangle(img, (100,100), (250, 250), color=(blue, green, red), thickness=2)\n",
    "#cv.rectangle(img, (100,100), (250, 250), color=(blue, green, red), thickness=cv.FILLED)  # cv.FILLED == -1\n",
    "#cv.circle(img, center=(200, 200), radius=50, color=(blue, green, red), thickness=3)\n",
    "\n",
    "#cv.putText(img, text=\"Hello World\", org=(20, 100), fontFace=cv.FONT_HERSHEY_COMPLEX, fontScale=1.0, color=(blue, green, red), thickness=2)\n",
    "display(widgets.Image(value=numpy_to_binary(img)));"
   ]
  },
  {
   "cell_type": "code",
   "execution_count": null,
   "id": "6da6afd6",
   "metadata": {},
   "outputs": [],
   "source": []
  },
  {
   "cell_type": "code",
   "execution_count": null,
   "id": "e520f82f",
   "metadata": {},
   "outputs": [],
   "source": []
  }
 ],
 "metadata": {
  "kernelspec": {
   "display_name": "Python 3 (ipykernel)",
   "language": "python",
   "name": "python3"
  },
  "language_info": {
   "codemirror_mode": {
    "name": "ipython",
    "version": 3
   },
   "file_extension": ".py",
   "mimetype": "text/x-python",
   "name": "python",
   "nbconvert_exporter": "python",
   "pygments_lexer": "ipython3",
   "version": "3.9.5"
  }
 },
 "nbformat": 4,
 "nbformat_minor": 5
}
