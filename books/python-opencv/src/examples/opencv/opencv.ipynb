{
 "cells": [
  {
   "cell_type": "code",
   "execution_count": null,
   "id": "c32e05a7",
   "metadata": {},
   "outputs": [],
   "source": [
    "import os\n",
    "from ipyfilechooser import FileChooser\n",
    "import cv2 as cv\n",
    "import matplotlib.pyplot as plt\n",
    "import io\n",
    "import numpy as np\n",
    "from ipywidgets import interact, fixed, widgets"
   ]
  },
  {
   "cell_type": "markdown",
   "id": "14b7ab7e",
   "metadata": {},
   "source": [
    "A function to convert a Numpy array to a binary image that can be used by the ipywidgets."
   ]
  },
  {
   "cell_type": "code",
   "execution_count": null,
   "id": "46aef212",
   "metadata": {},
   "outputs": [],
   "source": [
    "def numpy_to_binary(arr):\n",
    "    is_success, buffer = cv.imencode(\".jpg\", arr)\n",
    "    io_buf = io.BytesIO(buffer)\n",
    "    #print(type(io_buf))\n",
    "    return io_buf.read()"
   ]
  },
  {
   "cell_type": "markdown",
   "id": "2c06bf4e",
   "metadata": {},
   "source": [
    "A file selector to make it easier to load any image from the filesystem. In an application I'd probably accept the path to the file on the command line, use some GUI toolkit to open a file-selector, or in a web application allow the user to upload an image."
   ]
  },
  {
   "cell_type": "code",
   "execution_count": null,
   "id": "7d53f76c",
   "metadata": {},
   "outputs": [],
   "source": [
    "#fc = FileChooser(os.path.dirname(os.getcwd()))\n",
    "fc = FileChooser(\"/home/gabor/Dropbox/Data/\")\n",
    "display(fc)"
   ]
  },
  {
   "cell_type": "code",
   "execution_count": null,
   "id": "31c018dd",
   "metadata": {},
   "outputs": [],
   "source": [
    "filename = fc.selected\n",
    "filename"
   ]
  },
  {
   "cell_type": "markdown",
   "id": "828f13b5",
   "metadata": {},
   "source": [
    "## Read Image into memory as a numpy array"
   ]
  },
  {
   "cell_type": "code",
   "execution_count": null,
   "id": "b6c2ddef",
   "metadata": {},
   "outputs": [],
   "source": [
    "original = cv.imread(filename)\n",
    "type(original)"
   ]
  },
  {
   "cell_type": "markdown",
   "id": "b25c2d55",
   "metadata": {},
   "source": [
    "## Display image using Matplotlib or using the ipywidgets"
   ]
  },
  {
   "cell_type": "code",
   "execution_count": null,
   "id": "e0f0b9e6",
   "metadata": {},
   "outputs": [],
   "source": [
    "#plt.axis(\"off\")\n",
    "# TODO why is it small?\n",
    "plt.imshow(original) # This image is blue because OpenCV stores the images in BGR order and PyPlot expects RGB\n",
    "#plt.imshow(cv.cvtColor(original, cv.COLOR_BGR2RGB));\n",
    "#display(widgets.Image(value=numpy_to_binary(original)));"
   ]
  },
  {
   "cell_type": "code",
   "execution_count": null,
   "id": "24030f7b",
   "metadata": {},
   "outputs": [],
   "source": [
    "original.shape"
   ]
  },
  {
   "cell_type": "markdown",
   "id": "80ba07ee",
   "metadata": {},
   "source": [
    "## Resize the image - Make the image smaller"
   ]
  },
  {
   "cell_type": "code",
   "execution_count": null,
   "id": "50c2c801",
   "metadata": {},
   "outputs": [],
   "source": [
    "def resize_image(img, scale):\n",
    "    height, width, colors = img.shape\n",
    "    new_height = int(height * scale)\n",
    "    new_width = int(width * scale)\n",
    "    return cv.resize(img, (new_width, new_height), interpolation=cv.INTER_AREA)"
   ]
  },
  {
   "cell_type": "code",
   "execution_count": null,
   "id": "7bbf4d85",
   "metadata": {},
   "outputs": [],
   "source": [
    "smaller = resize_image(original, 0.5)\n",
    "display(widgets.Image(value=numpy_to_binary(smaller)));"
   ]
  },
  {
   "cell_type": "markdown",
   "id": "441c8139",
   "metadata": {},
   "source": [
    "## Crop image"
   ]
  },
  {
   "cell_type": "code",
   "execution_count": null,
   "id": "b7972934",
   "metadata": {},
   "outputs": [],
   "source": [
    "smaller.shape"
   ]
  },
  {
   "cell_type": "code",
   "execution_count": null,
   "id": "2904eb72",
   "metadata": {},
   "outputs": [],
   "source": [
    "cropped = smaller[200:600, 50:450] # height, width\n",
    "display(widgets.Image(value=numpy_to_binary(cropped)));"
   ]
  },
  {
   "cell_type": "markdown",
   "id": "cc2154a1",
   "metadata": {},
   "source": [
    "## Convert to Grayscale"
   ]
  },
  {
   "cell_type": "code",
   "execution_count": null,
   "id": "43d29825",
   "metadata": {},
   "outputs": [],
   "source": [
    "grey = cv.cvtColor(cropped, cv.COLOR_BGR2GRAY)\n",
    "display(widgets.Image(value=numpy_to_binary(grey)));"
   ]
  },
  {
   "cell_type": "markdown",
   "id": "9ce50bd7",
   "metadata": {},
   "source": [
    "## Blur the image\n",
    "\n",
    "* [Gaussian blur](https://en.wikipedia.org/wiki/Gaussian_blur) on Wikipedia\n",
    "* [Blurring or smoothing](https://docs.opencv.org/4.5.3/d4/d13/tutorial_py_filtering.html) OpenCV tutorial"
   ]
  },
  {
   "cell_type": "code",
   "execution_count": null,
   "id": "ade5a346",
   "metadata": {},
   "outputs": [],
   "source": [
    "# TODO blur part of the image\n",
    "blurred = cv.GaussianBlur(cropped, ksize=(3, 3), sigmaX=cv.BORDER_DEFAULT)\n",
    "display(widgets.Image(value=numpy_to_binary(blurred)));"
   ]
  },
  {
   "cell_type": "markdown",
   "id": "9efecad2",
   "metadata": {},
   "source": [
    "## Edges - Canny\n",
    "\n",
    "providing two thresholds\n",
    "* [Edge detection](https://en.wikipedia.org/wiki/Edge_detection)\n",
    "* [Canny edge detector](https://en.wikipedia.org/wiki/Canny_edge_detector) in wikipedia\n",
    "* [Canny](https://docs.opencv.org/4.5.3/da/d22/tutorial_py_canny.html) in OpenCV tutorial\n",
    "* `threshold1` is minimum (required)\n",
    "* `threshold2` is maximum (required)\n",
    "* `apertureSize` defaults to 3\n",
    "* `L2gradient` defaults to `False`"
   ]
  },
  {
   "cell_type": "code",
   "execution_count": null,
   "id": "38521a91",
   "metadata": {},
   "outputs": [],
   "source": [
    "edges_of_cropped = cv.Canny(cropped, threshold1=125, threshold2=175, apertureSize=3, L2gradient=False)\n",
    "display(widgets.Image(value=numpy_to_binary(edges_of_cropped)));"
   ]
  },
  {
   "cell_type": "code",
   "execution_count": null,
   "id": "6c35fd1b",
   "metadata": {},
   "outputs": [],
   "source": [
    "edges_of_blurred = cv.Canny(blurred, threshold1=125, threshold2=175, apertureSize=3, L2gradient=False)\n",
    "display(widgets.Image(value=numpy_to_binary(edges_of_blurred)));"
   ]
  },
  {
   "cell_type": "markdown",
   "id": "45a753e3",
   "metadata": {},
   "source": [
    "## Dilation (Morphology)\n",
    "\n",
    "\n",
    "* dilate means to expand, in this context it is the opposite of erosion\n",
    "* adds pixels to the boundaries of an image\n",
    "\n",
    "* [Dilation](https://en.wikipedia.org/wiki/Dilation_(morphology)) in Wikipedia\n",
    "* [Dilation and erosion](https://docs.opencv.org/3.4/db/df6/tutorial_erosion_dilatation.html) in OpenCV tutorial\n"
   ]
  },
  {
   "cell_type": "code",
   "execution_count": null,
   "id": "e20297ec",
   "metadata": {},
   "outputs": [],
   "source": [
    "dilated = cv.dilate(edges_of_blurred, (7,7), iterations=3)\n",
    "display(widgets.Image(value=numpy_to_binary(dilated)));"
   ]
  },
  {
   "cell_type": "markdown",
   "id": "f724aa91",
   "metadata": {},
   "source": [
    "## Affine Transformations\n",
    "\n",
    "* Rotations (linear transformation)\n",
    "* Translations (vector addition)\n",
    "* Scale operations (linear transformation)\n",
    "\n",
    "\n",
    "* [Wrap Affine](https://docs.opencv.org/4.5.2/d4/d61/tutorial_warp_affine.html) OpenCV tutorial\n",
    "* [Affine Transformations](https://en.wikipedia.org/wiki/Affine_transformation) in Wikipedia"
   ]
  },
  {
   "cell_type": "markdown",
   "id": "d793b420",
   "metadata": {},
   "source": [
    "# Translation - shifting image"
   ]
  },
  {
   "cell_type": "code",
   "execution_count": null,
   "id": "1254f299",
   "metadata": {},
   "outputs": [],
   "source": [
    "def translate(img, x, y):\n",
    "    translation_matrix = np.float32([[1, 0, x], [0, 1, y]])\n",
    "    dimensions = (img.shape[1], img.shape[0])\n",
    "    return cv.warpAffine(img, translation_matrix, dimensions)\n",
    "\n",
    "translated = translate(cropped, 100, -100)\n",
    "display(widgets.Image(value=numpy_to_binary(translated)));"
   ]
  }
 ],
 "metadata": {
  "kernelspec": {
   "display_name": "Python 3 (ipykernel)",
   "language": "python",
   "name": "python3"
  },
  "language_info": {
   "codemirror_mode": {
    "name": "ipython",
    "version": 3
   },
   "file_extension": ".py",
   "mimetype": "text/x-python",
   "name": "python",
   "nbconvert_exporter": "python",
   "pygments_lexer": "ipython3",
   "version": "3.9.5"
  }
 },
 "nbformat": 4,
 "nbformat_minor": 5
}
