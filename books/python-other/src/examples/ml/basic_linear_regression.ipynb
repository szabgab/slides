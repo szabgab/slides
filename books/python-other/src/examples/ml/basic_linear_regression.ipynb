{
 "cells": [
  {
   "cell_type": "markdown",
   "id": "3c434147",
   "metadata": {},
   "source": [
    "# Basic Linear regression"
   ]
  },
  {
   "cell_type": "markdown",
   "id": "6d165ee6",
   "metadata": {},
   "source": [
    "In this example we manufacture our own data using a linear function.\n",
    "Then we use `LinerRegression` from `sklearn` to create a model that would predic the result.\n",
    "For more details see: [sklearn.linear_model.LinearRegression](https://scikit-learn.org/stable/modules/generated/sklearn.linear_model.LinearRegression.html)"
   ]
  },
  {
   "cell_type": "code",
   "execution_count": null,
   "id": "e1b1b78a",
   "metadata": {},
   "outputs": [],
   "source": [
    "import numpy as np\n",
    "from sklearn.linear_model import LinearRegression\n",
    "import matplotlib.pyplot as plt\n",
    "from joblib import dump"
   ]
  },
  {
   "cell_type": "markdown",
   "id": "864240c5",
   "metadata": {},
   "source": [
    "### Generate the data"
   ]
  },
  {
   "cell_type": "markdown",
   "id": "b769e2f0",
   "metadata": {},
   "source": [
    "You can set any size here."
   ]
  },
  {
   "cell_type": "code",
   "execution_count": null,
   "id": "90a773fb",
   "metadata": {},
   "outputs": [],
   "source": [
    "size = 10\n",
    "original_data = np.array([[n, 2*n] for n in range(size)], dtype=\"float32\")"
   ]
  },
  {
   "cell_type": "code",
   "execution_count": null,
   "id": "43bbe148",
   "metadata": {},
   "outputs": [],
   "source": [
    "original_data"
   ]
  },
  {
   "cell_type": "markdown",
   "id": "0d5a6e0b",
   "metadata": {},
   "source": [
    "We need to transpose the data to make it easier to use it."
   ]
  },
  {
   "cell_type": "code",
   "execution_count": null,
   "id": "f04bcacb",
   "metadata": {},
   "outputs": [],
   "source": [
    "data = np.transpose(original_data.copy())\n",
    "data"
   ]
  },
  {
   "cell_type": "markdown",
   "id": "201ffd6c",
   "metadata": {},
   "source": [
    "Fix the seed so we can repeate the same example with the same random data"
   ]
  },
  {
   "cell_type": "code",
   "execution_count": null,
   "id": "a010fa18",
   "metadata": {},
   "outputs": [],
   "source": [
    "np.random.seed(42)"
   ]
  },
  {
   "cell_type": "markdown",
   "id": "9c6a0b38",
   "metadata": {},
   "source": [
    "First we'll use the data as was created by the linear function, later we'll add a bit noise to see how that impacts the results."
   ]
  },
  {
   "cell_type": "code",
   "execution_count": null,
   "id": "a79d844d",
   "metadata": {},
   "outputs": [],
   "source": [
    "noise_level = 0\n",
    "noise = np.random.random(size)\n",
    "print(noise)\n",
    "data[1] = data[1] + noise * noise_level\n",
    "data"
   ]
  },
  {
   "cell_type": "markdown",
   "id": "87869b7c",
   "metadata": {},
   "source": [
    "### Show the data"
   ]
  },
  {
   "cell_type": "markdown",
   "id": "a3702b4a",
   "metadata": {},
   "source": [
    "Let's plot the data so we can have a feeling how it looks like."
   ]
  },
  {
   "cell_type": "code",
   "execution_count": null,
   "id": "34e00e4d",
   "metadata": {},
   "outputs": [],
   "source": [
    "plt.scatter(data[0], data[1]);"
   ]
  },
  {
   "cell_type": "code",
   "execution_count": null,
   "id": "3b28abee",
   "metadata": {},
   "outputs": [],
   "source": [
    "data[0]"
   ]
  },
  {
   "cell_type": "markdown",
   "id": "ea130cbe",
   "metadata": {},
   "source": [
    "The \"features\" or the \"independent variables\" are usually stored in a variable called X (capital letter).\n",
    "In most cases there are many features and thus X is a matrix, but in our simplified case we only have one value.\n",
    "Therefore we need to massaged it a bit to become a matrix."
   ]
  },
  {
   "cell_type": "code",
   "execution_count": null,
   "id": "c6c01854",
   "metadata": {},
   "outputs": [],
   "source": [
    "X = data[0].reshape((-1, 1))\n",
    "X"
   ]
  },
  {
   "cell_type": "markdown",
   "id": "f835b6a9",
   "metadata": {},
   "source": [
    "There are usually a lot less \"results\" or \"dependent variables\", in many cases there is only one. The values are usually store in the variable y."
   ]
  },
  {
   "cell_type": "code",
   "execution_count": null,
   "id": "d1775b45",
   "metadata": {},
   "outputs": [],
   "source": [
    "y = data[1]\n",
    "y"
   ]
  },
  {
   "cell_type": "markdown",
   "id": "f11ef59b",
   "metadata": {},
   "source": [
    "### Train the model"
   ]
  },
  {
   "cell_type": "markdown",
   "id": "527e5a96",
   "metadata": {},
   "source": [
    "We are looking for a linear function like `y = ax+b` for which our cost is the smallest.\n",
    "\n",
    "We start by creating an object to hold our model."
   ]
  },
  {
   "cell_type": "code",
   "execution_count": null,
   "id": "8b21cf17",
   "metadata": {},
   "outputs": [],
   "source": [
    "model = LinearRegression()"
   ]
  },
  {
   "cell_type": "code",
   "execution_count": null,
   "id": "ff16e44f",
   "metadata": {},
   "outputs": [],
   "source": [
    "print(model)"
   ]
  },
  {
   "cell_type": "markdown",
   "id": "dda51f92",
   "metadata": {},
   "source": [
    "Then we \"train\" the model by calling the `fit` method."
   ]
  },
  {
   "cell_type": "code",
   "execution_count": null,
   "id": "2e9793a4",
   "metadata": {},
   "outputs": [],
   "source": [
    "model.fit(X, y)"
   ]
  },
  {
   "cell_type": "markdown",
   "id": "9d20cc6b",
   "metadata": {},
   "source": [
    "Evaluate the model"
   ]
  },
  {
   "cell_type": "markdown",
   "id": "704103ad",
   "metadata": {},
   "source": [
    "`intercept_` is where the line crosses the `y` axis. (It is `b` in the above expression.)\n",
    "This is aproximately 0 in our case."
   ]
  },
  {
   "cell_type": "code",
   "execution_count": null,
   "id": "54f8a6f5",
   "metadata": {},
   "outputs": [],
   "source": [
    "model.intercept_"
   ]
  },
  {
   "cell_type": "markdown",
   "id": "4cd0bfc2",
   "metadata": {},
   "source": [
    "`coef_` is how steep the line is. (It is `a` in the above expression.)"
   ]
  },
  {
   "cell_type": "code",
   "execution_count": null,
   "id": "d562a461",
   "metadata": {},
   "outputs": [],
   "source": [
    "model.coef_"
   ]
  },
  {
   "cell_type": "markdown",
   "id": "d604b37e",
   "metadata": {},
   "source": [
    "[Coefficient of determination](https://en.wikipedia.org/wiki/Coefficient_of_determination)"
   ]
  },
  {
   "cell_type": "code",
   "execution_count": null,
   "id": "797c8dbf",
   "metadata": {},
   "outputs": [],
   "source": [
    "print('coefficient of determination:', model.score(X, y))"
   ]
  },
  {
   "cell_type": "code",
   "execution_count": null,
   "id": "b6e11dd4",
   "metadata": {},
   "outputs": [],
   "source": [
    "model.predict([[10], [7]])"
   ]
  },
  {
   "cell_type": "code",
   "execution_count": null,
   "id": "8004c969",
   "metadata": {},
   "outputs": [],
   "source": [
    "x1, x2 = min(data[0]), max(data[0]) # 0, size-1\n",
    "y1, y2 = model.predict([[x1], [x2]])\n",
    "plt.plot([x1, x2], [y1, y2], color=\"red\");\n",
    "plt.scatter(data[0], data[1]);"
   ]
  },
  {
   "cell_type": "markdown",
   "id": "2e4b699e",
   "metadata": {},
   "source": [
    "### Save the model"
   ]
  },
  {
   "cell_type": "markdown",
   "id": "e27fd097",
   "metadata": {},
   "source": [
    "Save the model in a file using some kind of serialization. `joblib` is used frequently"
   ]
  },
  {
   "cell_type": "code",
   "execution_count": null,
   "id": "158b3fa8",
   "metadata": {},
   "outputs": [],
   "source": [
    "dump(model, 'linear.joblib')"
   ]
  },
  {
   "cell_type": "markdown",
   "id": "f6f376fa",
   "metadata": {},
   "source": [
    "Run the script `basic_linear_regression_predict.py` on the command line to see how to use the model."
   ]
  }
 ],
 "metadata": {
  "kernelspec": {
   "display_name": "Python 3 (ipykernel)",
   "language": "python",
   "name": "python3"
  },
  "language_info": {
   "codemirror_mode": {
    "name": "ipython",
    "version": 3
   },
   "file_extension": ".py",
   "mimetype": "text/x-python",
   "name": "python",
   "nbconvert_exporter": "python",
   "pygments_lexer": "ipython3",
   "version": "3.9.7"
  }
 },
 "nbformat": 4,
 "nbformat_minor": 5
}
