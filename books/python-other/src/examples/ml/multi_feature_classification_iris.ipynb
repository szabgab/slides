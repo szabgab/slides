{
 "cells": [
  {
   "cell_type": "markdown",
   "id": "a4faa251",
   "metadata": {},
   "source": [
    "# Classification with the Iris data set\n",
    "\n",
    "[source](https://scikit-learn.org/stable/tutorial/basic/tutorial.html)"
   ]
  },
  {
   "cell_type": "code",
   "execution_count": null,
   "id": "2b73d0e8",
   "metadata": {},
   "outputs": [],
   "source": [
    "from sklearn import datasets\n",
    "import numpy as np\n",
    "from sklearn.linear_model import LogisticRegression\n",
    "import matplotlib.pyplot as plt\n",
    "from sklearn.model_selection import train_test_split\n",
    "from sklearn.svm import SVC"
   ]
  },
  {
   "cell_type": "code",
   "execution_count": null,
   "id": "80dbfe3f",
   "metadata": {},
   "outputs": [],
   "source": [
    "np.random.seed(42)"
   ]
  },
  {
   "cell_type": "code",
   "execution_count": null,
   "id": "09012be6",
   "metadata": {},
   "outputs": [],
   "source": [
    "iris = datasets.load_iris()"
   ]
  },
  {
   "cell_type": "code",
   "execution_count": null,
   "id": "66d44894",
   "metadata": {},
   "outputs": [],
   "source": [
    "type(iris)"
   ]
  },
  {
   "cell_type": "code",
   "execution_count": null,
   "id": "6b9b909b",
   "metadata": {},
   "outputs": [],
   "source": [
    "iris.keys()"
   ]
  },
  {
   "cell_type": "code",
   "execution_count": null,
   "id": "71c26eb3",
   "metadata": {},
   "outputs": [],
   "source": [
    "type(iris.data)"
   ]
  },
  {
   "cell_type": "code",
   "execution_count": null,
   "id": "73f52e13",
   "metadata": {},
   "outputs": [],
   "source": [
    "iris.data.shape"
   ]
  },
  {
   "cell_type": "code",
   "execution_count": null,
   "id": "3208a526",
   "metadata": {},
   "outputs": [],
   "source": [
    "iris.data[0:3]"
   ]
  },
  {
   "cell_type": "code",
   "execution_count": null,
   "id": "0d7f4ddc",
   "metadata": {},
   "outputs": [],
   "source": [
    "type(iris.target)"
   ]
  },
  {
   "cell_type": "code",
   "execution_count": null,
   "id": "6d25e555",
   "metadata": {},
   "outputs": [],
   "source": [
    "iris.target.shape"
   ]
  },
  {
   "cell_type": "code",
   "execution_count": null,
   "id": "a169178c",
   "metadata": {},
   "outputs": [],
   "source": [
    "iris.target[0:3]"
   ]
  },
  {
   "cell_type": "code",
   "execution_count": null,
   "id": "4ac9a9ce",
   "metadata": {},
   "outputs": [],
   "source": [
    "iris.feature_names"
   ]
  },
  {
   "cell_type": "markdown",
   "id": "b8f2190d",
   "metadata": {},
   "source": [
    "* Sepal = outer part of the flower (green, leaves)\n",
    "* Petal = inner part of the flower (colorful)"
   ]
  },
  {
   "cell_type": "code",
   "execution_count": null,
   "id": "7c098d50",
   "metadata": {},
   "outputs": [],
   "source": [
    "iris.target_names\n",
    "#iris.target_names[iris.target]"
   ]
  },
  {
   "cell_type": "markdown",
   "id": "c2b1994c",
   "metadata": {},
   "source": [
    "* [Iris setosa](https://en.wikipedia.org/wiki/Iris_setosa)\n",
    "* [Iris versicolor](https://en.wikipedia.org/wiki/Iris_versicolor)\n",
    "* [Iris virginica](https://en.wikipedia.org/wiki/Iris_virginica)"
   ]
  },
  {
   "cell_type": "code",
   "execution_count": null,
   "id": "8e9a998f",
   "metadata": {},
   "outputs": [],
   "source": [
    "plt.scatter(list(range(150)), np.transpose(iris.data)[0], color=\"red\", s=1);\n",
    "plt.scatter(list(range(150)), np.transpose(iris.data)[1], color=\"blue\", s=1);\n",
    "plt.scatter(list(range(150)), np.transpose(iris.data)[2], color=\"green\", s=1);\n",
    "plt.scatter(list(range(150)), np.transpose(iris.data)[3], color=\"orange\", s=1);\n",
    "plt.legend([\"sepal length\", \"sepal width\", \"petal length\", \"petal width\"], loc =\"lower right\");"
   ]
  },
  {
   "cell_type": "code",
   "execution_count": null,
   "id": "437e73bd",
   "metadata": {},
   "outputs": [],
   "source": [
    "X = iris.data\n",
    "y = iris.target"
   ]
  },
  {
   "cell_type": "code",
   "execution_count": null,
   "id": "b0dde31e",
   "metadata": {},
   "outputs": [],
   "source": [
    "model = LogisticRegression()"
   ]
  },
  {
   "cell_type": "code",
   "execution_count": null,
   "id": "16c1342e",
   "metadata": {},
   "outputs": [],
   "source": [
    "model.fit(X, y)\n",
    "# ConvergenceWarning: lbfgs failed to converge (status=1):\n",
    "# STOP: TOTAL NO. of ITERATIONS REACHED LIMIT."
   ]
  },
  {
   "cell_type": "code",
   "execution_count": null,
   "id": "144ef952",
   "metadata": {},
   "outputs": [],
   "source": [
    "model = LogisticRegression(max_iter=200)\n",
    "model.fit(X, y)"
   ]
  },
  {
   "cell_type": "code",
   "execution_count": null,
   "id": "41a30e66",
   "metadata": {},
   "outputs": [],
   "source": [
    "print('coefficient of determination:', model.score(X, y))"
   ]
  },
  {
   "cell_type": "markdown",
   "id": "f76a1c74",
   "metadata": {},
   "source": [
    "## Split the data into train and test"
   ]
  },
  {
   "cell_type": "code",
   "execution_count": null,
   "id": "b80fac97",
   "metadata": {},
   "outputs": [],
   "source": [
    "x_train, x_test, y_train, y_test = train_test_split(X, y, stratify=y)"
   ]
  },
  {
   "cell_type": "code",
   "execution_count": null,
   "id": "bacf0ceb",
   "metadata": {},
   "outputs": [],
   "source": [
    "model = LogisticRegression()\n",
    "model.fit(x_train, y_train)"
   ]
  },
  {
   "cell_type": "code",
   "execution_count": null,
   "id": "439137fb",
   "metadata": {},
   "outputs": [],
   "source": [
    "print('train coefficient of determination:', model.score(x_train, y_train))"
   ]
  },
  {
   "cell_type": "code",
   "execution_count": null,
   "id": "04cef77f",
   "metadata": {},
   "outputs": [],
   "source": [
    "print('test coefficient of determination:', model.score(x_test, y_test))"
   ]
  },
  {
   "cell_type": "code",
   "execution_count": null,
   "id": "969026c7",
   "metadata": {},
   "outputs": [],
   "source": [
    "ix = 20\n",
    "iris.data[ix]\n",
    "res = model.predict([iris.data[ix]])[0]\n",
    "print(f\"Expected result {iris.target[ix]} predicted result: {res} name: {iris.target_names[res]}\")"
   ]
  },
  {
   "cell_type": "markdown",
   "id": "433c8bbd",
   "metadata": {},
   "source": [
    "## C-Support Vector Classification\n",
    "\n",
    "[SVC](https://scikit-learn.org/stable/modules/generated/sklearn.svm.SVC.html)\n"
   ]
  },
  {
   "cell_type": "code",
   "execution_count": null,
   "id": "7bca4324",
   "metadata": {},
   "outputs": [],
   "source": [
    "svc_model = SVC()\n",
    "svc_model.fit(x_train, y_train)"
   ]
  },
  {
   "cell_type": "code",
   "execution_count": null,
   "id": "77374562",
   "metadata": {},
   "outputs": [],
   "source": [
    "svc_model.fit(x_train, y_train)"
   ]
  },
  {
   "cell_type": "code",
   "execution_count": null,
   "id": "57335a1d",
   "metadata": {},
   "outputs": [],
   "source": [
    "print('train accuracy:', svc_model.score(x_train, y_train))\n",
    "print('test accuracy:', svc_model.score(x_test, y_test))"
   ]
  }
 ],
 "metadata": {
  "kernelspec": {
   "display_name": "Python 3 (ipykernel)",
   "language": "python",
   "name": "python3"
  },
  "language_info": {
   "codemirror_mode": {
    "name": "ipython",
    "version": 3
   },
   "file_extension": ".py",
   "mimetype": "text/x-python",
   "name": "python",
   "nbconvert_exporter": "python",
   "pygments_lexer": "ipython3",
   "version": "3.9.7"
  }
 },
 "nbformat": 4,
 "nbformat_minor": 5
}
