{
 "cells": [
  {
   "cell_type": "code",
   "execution_count": null,
   "id": "4319f0a1",
   "metadata": {},
   "outputs": [],
   "source": [
    "from joblib import load"
   ]
  },
  {
   "cell_type": "code",
   "execution_count": null,
   "id": "fcf97815",
   "metadata": {},
   "outputs": [],
   "source": [
    "model = load('linear.joblib')"
   ]
  },
  {
   "cell_type": "code",
   "execution_count": null,
   "id": "224f5d52",
   "metadata": {},
   "outputs": [],
   "source": [
    "model.predict([[10], [20], [-3]])"
   ]
  }
 ],
 "metadata": {
  "kernelspec": {
   "display_name": "Python 3 (ipykernel)",
   "language": "python",
   "name": "python3"
  },
  "language_info": {
   "codemirror_mode": {
    "name": "ipython",
    "version": 3
   },
   "file_extension": ".py",
   "mimetype": "text/x-python",
   "name": "python",
   "nbconvert_exporter": "python",
   "pygments_lexer": "ipython3",
   "version": "3.9.7"
  }
 },
 "nbformat": 4,
 "nbformat_minor": 5
}
