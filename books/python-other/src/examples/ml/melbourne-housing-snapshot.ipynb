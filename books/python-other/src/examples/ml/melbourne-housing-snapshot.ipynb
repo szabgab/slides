{
 "cells": [
  {
   "cell_type": "markdown",
   "id": "d7cb17e6",
   "metadata": {},
   "source": [
    "# Melbourne Housing Snapshot\n",
    "[source](https://www.kaggle.com/dansbecker/melbourne-housing-snapshot)"
   ]
  },
  {
   "cell_type": "code",
   "execution_count": null,
   "id": "aaa673d9",
   "metadata": {},
   "outputs": [],
   "source": [
    "import pandas as pd\n",
    "from sklearn.linear_model import LinearRegression\n",
    "from sklearn.tree import DecisionTreeRegressor\n",
    "import matplotlib.pyplot as plt\n",
    "from joblib import dump\n",
    "from sklearn.metrics import classification_report, confusion_matrix, mean_absolute_error\n",
    "from sklearn.model_selection import train_test_split\n",
    "from sklearn.ensemble import RandomForestRegressor"
   ]
  },
  {
   "cell_type": "code",
   "execution_count": null,
   "id": "3b46b446",
   "metadata": {},
   "outputs": [],
   "source": [
    "filename = \"kaggle/melb_data.csv\""
   ]
  },
  {
   "cell_type": "code",
   "execution_count": null,
   "id": "dfa95471",
   "metadata": {},
   "outputs": [],
   "source": [
    "df = pd.read_csv(filename)"
   ]
  },
  {
   "cell_type": "code",
   "execution_count": null,
   "id": "00c62ae5",
   "metadata": {},
   "outputs": [],
   "source": [
    "df.count()"
   ]
  },
  {
   "cell_type": "code",
   "execution_count": null,
   "id": "eab1f7ff",
   "metadata": {},
   "outputs": [],
   "source": [
    "df"
   ]
  },
  {
   "cell_type": "code",
   "execution_count": null,
   "id": "c7924449",
   "metadata": {},
   "outputs": [],
   "source": [
    "df.columns"
   ]
  },
  {
   "cell_type": "code",
   "execution_count": null,
   "id": "052602a9",
   "metadata": {},
   "outputs": [],
   "source": [
    "df.describe()"
   ]
  },
  {
   "cell_type": "code",
   "execution_count": null,
   "id": "b370ecc7",
   "metadata": {},
   "outputs": [],
   "source": [
    "def doit(X, y, name):\n",
    "    x_train, x_test, y_train, y_test = train_test_split(X, y, random_state=4)\n",
    "    #model = LinearRegression()\n",
    "    model = DecisionTreeRegressor(random_state=1)\n",
    "    model.fit(x_train, y_train)\n",
    "    print(name)\n",
    "    print(f\"Number of rows: {X.size}\")\n",
    "    print(f\"train coefficient of determination: {model.score(x_train, y_train)}\")\n",
    "    print(f\"test  coefficient of determination: {model.score(x_test, y_test)}\")\n",
    "    print(f\"train mean_absolute_error: {int(mean_absolute_error(y_train, model.predict(x_train)))}\")\n",
    "    print(f\"test  mean_absolute_error: {int(mean_absolute_error(y_test, model.predict(x_test)))}\")\n",
    "    p = 3\n",
    "    print(f\"predictions:  {model.predict(x_test.head(p))}\")\n",
    "    print(f\"expectations: {y_test.head(p)}\")\n",
    "\n",
    "    print(\"-----\\n\")\n",
    "    return model"
   ]
  },
  {
   "cell_type": "code",
   "execution_count": null,
   "id": "8c01ce11",
   "metadata": {},
   "outputs": [],
   "source": [
    "clean = df.dropna(axis=0)\n",
    "clean.size"
   ]
  },
  {
   "cell_type": "code",
   "execution_count": null,
   "id": "1eab49c7",
   "metadata": {},
   "outputs": [],
   "source": [
    "has_data = df[df['BuildingArea'].notnull() & df['Landsize'].notnull()]\n",
    "has_data"
   ]
  },
  {
   "cell_type": "code",
   "execution_count": null,
   "id": "3bdd62ea",
   "metadata": {},
   "outputs": [],
   "source": [
    "has_data[['Price', 'BuildingArea', 'Landsize']]"
   ]
  },
  {
   "cell_type": "code",
   "execution_count": null,
   "id": "97fecacc",
   "metadata": {},
   "outputs": [],
   "source": [
    "y = has_data[['Price']]\n",
    "\n",
    "X = has_data[['BuildingArea']]\n",
    "doit(X, y, \"all the rows BuildingArea to Price\")\n",
    "\n",
    "X = has_data[['BuildingArea', 'Landsize']]\n",
    "doit(X, y, \"all the rows BuildingArea + Landsize to Price\")\n",
    "\n",
    "X = has_data[['Rooms', 'Bathroom', 'Landsize', 'Lattitude', 'Longtitude']]\n",
    "doit(X, y, \"5 cols to Price\")"
   ]
  },
  {
   "cell_type": "code",
   "execution_count": null,
   "id": "2e1bc461",
   "metadata": {},
   "outputs": [],
   "source": [
    "y = has_data[['Price']]\n",
    "\n",
    "#X = has_data[['BuildingArea']]\n",
    "#X = has_data[['BuildingArea', 'Landsize']]\n",
    "X = has_data[['Rooms', 'Bathroom', 'Landsize', 'Lattitude', 'Longtitude']]\n",
    "x_train, x_test, y_train, y_test = train_test_split(X, y, random_state=4)\n",
    "\n",
    "forest_model = RandomForestRegressor(random_state=1)\n",
    "forest_model.fit(train_X, train_y)\n",
    "melb_preds = forest_model.predict(val_X)\n",
    "print(mean_absolute_error(val_y, melb_preds))\n"
   ]
  }
 ],
 "metadata": {
  "kernelspec": {
   "display_name": "Python 3 (ipykernel)",
   "language": "python",
   "name": "python3"
  },
  "language_info": {
   "codemirror_mode": {
    "name": "ipython",
    "version": 3
   },
   "file_extension": ".py",
   "mimetype": "text/x-python",
   "name": "python",
   "nbconvert_exporter": "python",
   "pygments_lexer": "ipython3",
   "version": "3.9.7"
  }
 },
 "nbformat": 4,
 "nbformat_minor": 5
}
