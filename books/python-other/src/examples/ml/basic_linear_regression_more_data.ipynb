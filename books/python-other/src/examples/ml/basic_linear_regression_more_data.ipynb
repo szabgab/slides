{
 "cells": [
  {
   "cell_type": "code",
   "execution_count": null,
   "id": "e1b1b78a",
   "metadata": {},
   "outputs": [],
   "source": [
    "import numpy as np\n",
    "from sklearn.linear_model import LinearRegression\n",
    "import matplotlib.pyplot as plt\n",
    "from joblib import dump\n",
    "from sklearn.metrics import classification_report, confusion_matrix\n",
    "from sklearn.model_selection import train_test_split"
   ]
  },
  {
   "cell_type": "markdown",
   "id": "2bec7fb7",
   "metadata": {},
   "source": [
    "Fix the seed so we can repeate the same example with the same random data"
   ]
  },
  {
   "cell_type": "code",
   "execution_count": null,
   "id": "e72d2860",
   "metadata": {},
   "outputs": [],
   "source": [
    "np.random.seed(42)"
   ]
  },
  {
   "cell_type": "code",
   "execution_count": null,
   "id": "a33872f8",
   "metadata": {},
   "outputs": [],
   "source": [
    "size = 10\n",
    "data = np.array([[n, 2*n] for n in range(size)], dtype='float32')\n",
    "tr = np.transpose(data)\n",
    "X = tr[0].reshape((-1, 1))\n",
    "y = tr[1]"
   ]
  },
  {
   "cell_type": "code",
   "execution_count": null,
   "id": "9486131f",
   "metadata": {},
   "outputs": [],
   "source": [
    "noise_level = 0\n",
    "y = tr[1] + noise_level * (np.random.rand(size)-0.5)"
   ]
  },
  {
   "cell_type": "code",
   "execution_count": null,
   "id": "e9a5c8c5",
   "metadata": {},
   "outputs": [],
   "source": [
    "print(X)\n",
    "y"
   ]
  },
  {
   "cell_type": "code",
   "execution_count": null,
   "id": "34e00e4d",
   "metadata": {},
   "outputs": [],
   "source": [
    "plt.scatter(tr[0], y, s=20);\n",
    "plt.plot([0, 10], [0, 20], color=\"red\");"
   ]
  },
  {
   "cell_type": "markdown",
   "id": "546d58de",
   "metadata": {},
   "source": [
    "## Split the Dataset With train_test_split\n",
    "\n",
    "* [train_test_split](https://scikit-learn.org/stable/modules/generated/sklearn.model_selection.train_test_split.html)\n",
    "* [Stratified sampling](https://en.wikipedia.org/wiki/Stratified_sampling)\n",
    "* [RealPython - Split Your Dataset With scikit-learn's train_test_split()](https://realpython.com/train-test-split-python-data/)"
   ]
  },
  {
   "cell_type": "code",
   "execution_count": null,
   "id": "16001fa7",
   "metadata": {},
   "outputs": [],
   "source": [
    "x_train, x_test, y_train, y_test = train_test_split(X, y, random_state=4)"
   ]
  },
  {
   "cell_type": "code",
   "execution_count": null,
   "id": "e04113f8",
   "metadata": {},
   "outputs": [],
   "source": [
    "y_train"
   ]
  },
  {
   "cell_type": "code",
   "execution_count": null,
   "id": "fedca68a",
   "metadata": {},
   "outputs": [],
   "source": [
    "y_test"
   ]
  },
  {
   "cell_type": "code",
   "execution_count": null,
   "id": "0c72cb43",
   "metadata": {},
   "outputs": [],
   "source": [
    "model = LinearRegression()\n",
    "model.fit(x_train, y_train)"
   ]
  },
  {
   "cell_type": "code",
   "execution_count": null,
   "id": "32e1b7c1",
   "metadata": {},
   "outputs": [],
   "source": [
    "model.intercept_"
   ]
  },
  {
   "cell_type": "code",
   "execution_count": null,
   "id": "e87074df",
   "metadata": {},
   "outputs": [],
   "source": [
    "model.coef_"
   ]
  },
  {
   "cell_type": "code",
   "execution_count": null,
   "id": "2def15cd",
   "metadata": {},
   "outputs": [],
   "source": [
    "print('train coefficient of determination:', model.score(x_train, y_train))\n",
    "print('test coefficient of determination:', model.score(x_test, y_test))"
   ]
  },
  {
   "cell_type": "code",
   "execution_count": null,
   "id": "252ca2f4",
   "metadata": {},
   "outputs": [],
   "source": [
    "model.predict([[6], [-3], [20]])"
   ]
  }
 ],
 "metadata": {
  "kernelspec": {
   "display_name": "Python 3 (ipykernel)",
   "language": "python",
   "name": "python3"
  },
  "language_info": {
   "codemirror_mode": {
    "name": "ipython",
    "version": 3
   },
   "file_extension": ".py",
   "mimetype": "text/x-python",
   "name": "python",
   "nbconvert_exporter": "python",
   "pygments_lexer": "ipython3",
   "version": "3.9.7"
  }
 },
 "nbformat": 4,
 "nbformat_minor": 5
}
