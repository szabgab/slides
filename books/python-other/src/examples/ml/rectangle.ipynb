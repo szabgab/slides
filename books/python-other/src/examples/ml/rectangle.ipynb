{
 "cells": [
  {
   "cell_type": "markdown",
   "id": "af6e3da9",
   "metadata": {},
   "source": [
    "An example of how feature creation can help the model"
   ]
  },
  {
   "cell_type": "code",
   "execution_count": null,
   "id": "9e0e3d7c",
   "metadata": {},
   "outputs": [],
   "source": [
    "import random\n",
    "import csv\n",
    "filename = 'rectangle.csv'\n",
    "\n",
    "def generate(n):\n",
    "    random.seed(42)\n",
    "    with open(filename, 'w', newline='') as csvfile:\n",
    "        writer = csv.writer(csvfile)\n",
    "        writer.writerow(['a', 'b', 'c'])\n",
    "        for _ in range(n):\n",
    "            a = random.random()*100\n",
    "            b = random.random()*100\n",
    "            c = a * b\n",
    "            writer.writerow([a, b, c])\n",
    "generate(100)"
   ]
  },
  {
   "cell_type": "code",
   "execution_count": null,
   "id": "111c3d96",
   "metadata": {},
   "outputs": [],
   "source": [
    "import pandas as pd\n",
    "from sklearn.linear_model import LinearRegression\n",
    "from sklearn.tree import DecisionTreeRegressor\n",
    "from joblib import dump\n",
    "from sklearn.metrics import classification_report, confusion_matrix\n",
    "from sklearn.model_selection import train_test_split"
   ]
  },
  {
   "cell_type": "code",
   "execution_count": null,
   "id": "4bffd425",
   "metadata": {},
   "outputs": [],
   "source": [
    "df = pd.read_csv(filename)"
   ]
  },
  {
   "cell_type": "code",
   "execution_count": null,
   "id": "13878753",
   "metadata": {},
   "outputs": [],
   "source": [
    "df.describe()"
   ]
  },
  {
   "cell_type": "code",
   "execution_count": null,
   "id": "280737d4",
   "metadata": {},
   "outputs": [],
   "source": [
    "def doit(X, y, model, name):\n",
    "    x_train, x_test, y_train, y_test = train_test_split(X, y, random_state=4)\n",
    "    model.fit(x_train, y_train)\n",
    "    print(name)\n",
    "    print(f\"Number of rows: {y.size}\")\n",
    "    print(f\"train coefficient of determination: {model.score(x_train, y_train)}\")\n",
    "    print(f\"test  coefficient of determination: {model.score(x_test, y_test)}\")\n",
    "    print(\"-----\")\n",
    "    return model"
   ]
  },
  {
   "cell_type": "code",
   "execution_count": null,
   "id": "64d88559",
   "metadata": {},
   "outputs": [],
   "source": [
    "y = df['c']\n",
    "X = df[['a', 'b']]\n",
    "doit(X, y, LinearRegression(), 'first')"
   ]
  },
  {
   "cell_type": "code",
   "execution_count": null,
   "id": "77fd800e",
   "metadata": {},
   "outputs": [],
   "source": [
    "y = df['c']\n",
    "X = df[['a', 'b']]\n",
    "doit(X, y, DecisionTreeRegressor(random_state=1), 'first')"
   ]
  },
  {
   "cell_type": "markdown",
   "id": "b02efc3e",
   "metadata": {},
   "source": [
    "## Feature Creation"
   ]
  },
  {
   "cell_type": "code",
   "execution_count": null,
   "id": "313865f5",
   "metadata": {},
   "outputs": [],
   "source": [
    "df['x'] = df['a'] * df['b']"
   ]
  },
  {
   "cell_type": "code",
   "execution_count": null,
   "id": "a27e127f",
   "metadata": {},
   "outputs": [],
   "source": [
    "y = df['c']\n",
    "X = df[['x']]\n",
    "doit(X, y, LinearRegression(), 'first')"
   ]
  },
  {
   "cell_type": "code",
   "execution_count": null,
   "id": "9d35f9b3",
   "metadata": {},
   "outputs": [],
   "source": [
    "y = df['c']\n",
    "X = df[['a', 'b', 'x']]\n",
    "doit(X, y, LinearRegression(), 'first')"
   ]
  }
 ],
 "metadata": {
  "kernelspec": {
   "display_name": "Python 3 (ipykernel)",
   "language": "python",
   "name": "python3"
  },
  "language_info": {
   "codemirror_mode": {
    "name": "ipython",
    "version": 3
   },
   "file_extension": ".py",
   "mimetype": "text/x-python",
   "name": "python",
   "nbconvert_exporter": "python",
   "pygments_lexer": "ipython3",
   "version": "3.9.7"
  }
 },
 "nbformat": 4,
 "nbformat_minor": 5
}
