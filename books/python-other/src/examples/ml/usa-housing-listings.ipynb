{
 "cells": [
  {
   "cell_type": "markdown",
   "id": "cdddf32d",
   "metadata": {},
   "source": [
    "# USA Housing Listings\n",
    "Source: [Kaggle](https://www.kaggle.com/austinreese/usa-housing-listings)"
   ]
  },
  {
   "cell_type": "code",
   "execution_count": null,
   "id": "e4d4bb70",
   "metadata": {},
   "outputs": [],
   "source": [
    "import pandas as pd\n",
    "from sklearn.linear_model import LinearRegression\n",
    "from sklearn.tree import DecisionTreeRegressor\n",
    "import matplotlib.pyplot as plt\n",
    "from joblib import dump\n",
    "from sklearn.metrics import classification_report, confusion_matrix\n",
    "from sklearn.model_selection import train_test_split"
   ]
  },
  {
   "cell_type": "code",
   "execution_count": null,
   "id": "dfdfdd51",
   "metadata": {},
   "outputs": [],
   "source": [
    "filename = \"kaggle/housing.csv\""
   ]
  },
  {
   "cell_type": "code",
   "execution_count": null,
   "id": "8759e5a7",
   "metadata": {},
   "outputs": [],
   "source": [
    "#df = pd.read_csv(filename, skiprows=10, nrows=10)\n",
    "df = pd.read_csv(filename)"
   ]
  },
  {
   "cell_type": "code",
   "execution_count": null,
   "id": "d229bbe6",
   "metadata": {},
   "outputs": [],
   "source": [
    "df.describe()"
   ]
  },
  {
   "cell_type": "code",
   "execution_count": null,
   "id": "c36bec32",
   "metadata": {},
   "outputs": [],
   "source": [
    "df.columns"
   ]
  },
  {
   "cell_type": "code",
   "execution_count": null,
   "id": "5b8704e1",
   "metadata": {},
   "outputs": [],
   "source": [
    "df.count()"
   ]
  },
  {
   "cell_type": "code",
   "execution_count": null,
   "id": "bf8c6e56",
   "metadata": {},
   "outputs": [],
   "source": [
    "def doit(X, y, name):\n",
    "    x_train, x_test, y_train, y_test = train_test_split(X, y, random_state=4)\n",
    "    #model = LinearRegression()\n",
    "    model = DecisionTreeRegressor(random_state=1)\n",
    "    model.fit(x_train, y_train)\n",
    "    print(name)\n",
    "    print(f\"Number of rows: {X.size}\")\n",
    "    print(f\"train coefficient of determination: {model.score(x_train, y_train)}\")\n",
    "    print(f\"test  coefficient of determination: {model.score(x_test, y_test)}\")\n",
    "    return model"
   ]
  },
  {
   "cell_type": "code",
   "execution_count": null,
   "id": "53973f4d",
   "metadata": {},
   "outputs": [],
   "source": [
    "X = df[[\"sqfeet\"]]\n",
    "y = df[[\"price\"]]\n",
    "doit(X, y, \"all the rows sqfeet to price\")"
   ]
  },
  {
   "cell_type": "markdown",
   "id": "21bec9a0",
   "metadata": {},
   "source": [
    "This model is horribly bad.\n",
    "\n",
    "### A few ideas how to improve it:\n",
    "* Remove the outliers in the size of the housing\n",
    "* Remove the outliers in the price\n",
    "* Cluster the data (there might be a much better prediction when the size of the housings are similar\n",
    "* Take into account other features. (how to take into account a feature with categorial values. e.g. state and type and with discrete values e.g. number of rooms)"
   ]
  },
  {
   "cell_type": "markdown",
   "id": "5dab207a",
   "metadata": {},
   "source": [
    "## Type\n",
    "* What kind of values does this have?\n",
    "* How many of each value"
   ]
  },
  {
   "cell_type": "code",
   "execution_count": null,
   "id": "d668caa4",
   "metadata": {},
   "outputs": [],
   "source": [
    "df['type']"
   ]
  },
  {
   "cell_type": "code",
   "execution_count": null,
   "id": "e6d197a6",
   "metadata": {},
   "outputs": [],
   "source": [
    "df.head(100).groupby('type').nunique()"
   ]
  },
  {
   "cell_type": "code",
   "execution_count": null,
   "id": "1e9456aa",
   "metadata": {},
   "outputs": [],
   "source": [
    "df[['id', 'type']].head(100).groupby('type').nunique()"
   ]
  },
  {
   "cell_type": "code",
   "execution_count": null,
   "id": "5289b155",
   "metadata": {},
   "outputs": [],
   "source": [
    "df[['id', 'type']].groupby('type').nunique()"
   ]
  },
  {
   "cell_type": "markdown",
   "id": "76a1c85a",
   "metadata": {},
   "source": [
    "We could try the same model for specific type of housing"
   ]
  },
  {
   "cell_type": "code",
   "execution_count": null,
   "id": "ce801a1b",
   "metadata": {},
   "outputs": [],
   "source": [
    "for housing_type in ['apartment', 'condo', 'house', 'duplex', 'townhouse']:\n",
    "    subset = df[df['type'] == housing_type]\n",
    "    X = subset[[\"sqfeet\"]]\n",
    "    y = subset[[\"price\"]]\n",
    "    doit(X, y, f\"{housing_type} only: sqfeet to price\")\n",
    "    print(\"-----\")"
   ]
  },
  {
   "cell_type": "markdown",
   "id": "61821d28",
   "metadata": {},
   "source": [
    "## State"
   ]
  },
  {
   "cell_type": "code",
   "execution_count": null,
   "id": "afe7421b",
   "metadata": {},
   "outputs": [],
   "source": [
    "df[['id', 'state']].groupby('state').nunique()"
   ]
  },
  {
   "cell_type": "markdown",
   "id": "e8a767b0",
   "metadata": {},
   "source": [
    "## Region"
   ]
  },
  {
   "cell_type": "code",
   "execution_count": null,
   "id": "70cf1e36",
   "metadata": {},
   "outputs": [],
   "source": [
    "x = df[['id', 'region']].groupby('region').nunique()\n",
    "type(x)\n",
    "x = x.rename(columns={\"id\": \"count\"})\n",
    "x.sort_values(by=['count'], ascending=False)"
   ]
  },
  {
   "cell_type": "code",
   "execution_count": null,
   "id": "fdcbafd7",
   "metadata": {},
   "outputs": [],
   "source": [
    "df[df['region'] == 'abilene'].count()"
   ]
  },
  {
   "cell_type": "markdown",
   "id": "ceb68e4f",
   "metadata": {},
   "source": [
    "## Prices\n",
    "* Tryting to figure out the range of the prices\n",
    "* Remove rows where the price does not make sense\n",
    "* Remove outliers"
   ]
  },
  {
   "cell_type": "code",
   "execution_count": null,
   "id": "5e13d974",
   "metadata": {},
   "outputs": [],
   "source": [
    "print(f\"max: {df['price'].max()}\")\n",
    "print(f\"min: {df['price'].min()}\")\n",
    "df[\"price\"].describe()"
   ]
  },
  {
   "cell_type": "code",
   "execution_count": null,
   "id": "20dd86d2",
   "metadata": {},
   "outputs": [],
   "source": [
    "df.plot.scatter(x='sqfeet', y='price', s=5);"
   ]
  },
  {
   "cell_type": "code",
   "execution_count": null,
   "id": "a70ce351",
   "metadata": {},
   "outputs": [],
   "source": [
    "print(f\"Number of rows: {df['price'].count()}\")\n",
    "print(f\"Number of price==0 {df[df['price'] == 0]['price'].count()}\")\n",
    "print(f\"Number of price!=0 {df[df['price'] != 0]['price'].count()}\")\n",
    "print(f\"Number of price<500 {df[df['price'] < 500]['price'].count()}\")\n",
    "print(f\"Number of price<2000 {df[df['price'] < 2000]['price'].count()}\")\n",
    "print(f\"Number of price>100000 {df[df['price'] > 100000]['price'].count()}\")"
   ]
  },
  {
   "cell_type": "code",
   "execution_count": null,
   "id": "521d85ad",
   "metadata": {},
   "outputs": [],
   "source": [
    "# The coordinates of the Empire State building:\n",
    "latitude = 40.748817\n",
    "longitude = -73.985428\n",
    "a = abs(df['lat']-latitude)<0.2\n",
    "b = abs(df['long']-longitude)<0.2\n",
    "near_by = df[a & b]\n",
    "print(near_by.count())\n",
    "X = near_by[[\"sqfeet\"]]\n",
    "y = near_by[[\"price\"]]\n",
    "doit(X, y, f\"near by the Empire State building only: sqfeet to price\")\n",
    "\n",
    "# Tried to check the URL of a listing, but it is not available (any more?)\n",
    "# near_by.iloc[0]['url']\n",
    "\n",
    "#print(f\"Number of rows near-by: {df[(abs(df['lat']-latitude)<0.5) & (abs(df['long']-longitude)<0.5)].count()}\")"
   ]
  },
  {
   "cell_type": "code",
   "execution_count": null,
   "id": "0e776bd0",
   "metadata": {},
   "outputs": [],
   "source": [
    "sane_price = df[ (500 < df['price']) & (df['price'] < 2000) ]\n",
    "sane_price.count()"
   ]
  },
  {
   "cell_type": "code",
   "execution_count": null,
   "id": "30eb8873",
   "metadata": {},
   "outputs": [],
   "source": [
    "sane_price.plot.scatter(x='sqfeet', y='price', s=5);"
   ]
  },
  {
   "cell_type": "code",
   "execution_count": null,
   "id": "ae711f56",
   "metadata": {},
   "outputs": [],
   "source": [
    "print(f\"Number of rows: {df['sqfeet'].count()}\")\n",
    "print(f\"Number of sqfeet==NaN {df[df['sqfeet'].isnull()]['sqfeet'].count()}\")\n",
    "print(f\"Number of sqfeet==0 {df[df['sqfeet'] == 0]['sqfeet'].count()}\")\n",
    "print(f\"Number of sqfeet<400 {df[df['sqfeet'] < 400]['sqfeet'].count()}\")\n",
    "print(f\"Number of sqfeet>2000 {df[df['sqfeet'] > 2000]['sqfeet'].count()}\")\n",
    "print(f\"Number of sqfeet!=0 {df[df['sqfeet'] != 0]['sqfeet'].count()}\")"
   ]
  },
  {
   "cell_type": "code",
   "execution_count": null,
   "id": "770b0632",
   "metadata": {},
   "outputs": [],
   "source": [
    "sane_sqfeet = df[ (400 < df['sqfeet']) & (df['sqfeet'] < 2000) ]\n",
    "sane_sqfeet.count()"
   ]
  },
  {
   "cell_type": "code",
   "execution_count": null,
   "id": "061720ea",
   "metadata": {},
   "outputs": [],
   "source": [
    "sane_sqfeet.plot.scatter(x='sqfeet', y='price', s=5);"
   ]
  },
  {
   "cell_type": "code",
   "execution_count": null,
   "id": "71b41c63",
   "metadata": {},
   "outputs": [],
   "source": [
    "sane = sane_sqfeet[ (500 < sane_sqfeet['price']) & (sane_sqfeet['price'] < 3000) ]\n",
    "sane.count()"
   ]
  },
  {
   "cell_type": "code",
   "execution_count": null,
   "id": "f30c1e29",
   "metadata": {},
   "outputs": [],
   "source": [
    "#sane = sane[ sane['state'] == 'ca' ]\n",
    "sane.plot.scatter(x='sqfeet', y='price', s=5);"
   ]
  },
  {
   "cell_type": "code",
   "execution_count": null,
   "id": "2476db78",
   "metadata": {},
   "outputs": [],
   "source": [
    "X = sane[[\"sqfeet\"]]\n",
    "y = sane[[\"price\"]]\n",
    "doit(X, y, f\"sane: sqfeet to price\")"
   ]
  },
  {
   "cell_type": "code",
   "execution_count": null,
   "id": "e977f7c1",
   "metadata": {},
   "outputs": [],
   "source": [
    "sane_in_region = sane[sane['region'] == 'jacksonville']\n",
    "#sane_in_region = sane[sane['region'] == 'columbus']\n",
    "#sane_in_region = sane[sane['region'].isin(['jacksonville', 'columbus']) ]\n",
    "sane_in_region.count()\n",
    "sane_in_region.describe()\n",
    "sane_in_region.plot.scatter(x='sqfeet', y='price', s=5);"
   ]
  },
  {
   "cell_type": "code",
   "execution_count": null,
   "id": "cb260001",
   "metadata": {},
   "outputs": [],
   "source": [
    "X = sane_in_region[[\"sqfeet\"]]\n",
    "y = sane_in_region[[\"price\"]]\n",
    "doit(X, y, f\"sane_in_region: sqfeet to price\")"
   ]
  },
  {
   "cell_type": "code",
   "execution_count": null,
   "id": "1b37ea87",
   "metadata": {},
   "outputs": [],
   "source": [
    "X = sane_in_region[[\"sqfeet\", \"beds\"]]\n",
    "y = sane_in_region[[\"price\"]]\n",
    "doit(X, y, f\"sane_in_region: sqfeet to price\")"
   ]
  },
  {
   "cell_type": "code",
   "execution_count": null,
   "id": "1d285be0",
   "metadata": {},
   "outputs": [],
   "source": [
    "X = sane_in_region[[\"sqfeet\", \"beds\", \"baths\"]]\n",
    "y = sane_in_region[[\"price\"]]\n",
    "mymodel = doit(X, y, f\"sane_in_region: sqfeet to price\")"
   ]
  },
  {
   "cell_type": "code",
   "execution_count": null,
   "id": "4ede3704",
   "metadata": {},
   "outputs": [],
   "source": [
    "sane_in_region[[\"price\", \"sqfeet\", \"beds\", \"baths\"]].describe()"
   ]
  },
  {
   "cell_type": "code",
   "execution_count": null,
   "id": "4aa8d464",
   "metadata": {},
   "outputs": [],
   "source": [
    "sane_in_region[[\"price\", \"sqfeet\", \"beds\", \"baths\"]].head(10)"
   ]
  },
  {
   "cell_type": "code",
   "execution_count": null,
   "id": "ad80bb13",
   "metadata": {},
   "outputs": [],
   "source": [
    "mymodel.predict([[1000, 1, 1], [1000, 2, 2], [1000, 1, 2], [760, 1, 1]])\n",
    "mymodel.predict(sane_in_region[[\"sqfeet\", \"beds\", \"baths\"]].head(10)) - sane_in_region.head(10)[\"price\"]\n"
   ]
  },
  {
   "cell_type": "code",
   "execution_count": null,
   "id": "25b0bc8d",
   "metadata": {},
   "outputs": [],
   "source": [
    "X = sane_in_region[[\"sqfeet\", \"beds\", \"baths\", \"cats_allowed\"]] #\n",
    "y = sane_in_region[[\"price\"]]\n",
    "doit(X, y, f\"sane_in_region: sqfeet to price\")"
   ]
  },
  {
   "cell_type": "code",
   "execution_count": null,
   "id": "6ff2f289",
   "metadata": {},
   "outputs": [],
   "source": [
    "X = sane_in_region[[\"sqfeet\", \"beds\", \"baths\", \"cats_allowed\", \"dogs_allowed\"]] # smoking_allowed \twheelchair_access\n",
    "y = sane_in_region[[\"price\"]]\n",
    "doit(X, y, f\"sane_in_region: sqfeet to price\")"
   ]
  },
  {
   "cell_type": "code",
   "execution_count": null,
   "id": "c25fa15e",
   "metadata": {},
   "outputs": [],
   "source": [
    "X = sane_in_region[[\"sqfeet\", \"beds\", \"baths\", \"cats_allowed\", \"dogs_allowed\", \"smoking_allowed\"]] #  \twheelchair_access\n",
    "y = sane_in_region[[\"price\"]]\n",
    "doit(X, y, f\"sane_in_region: sqfeet to price\")"
   ]
  },
  {
   "cell_type": "code",
   "execution_count": null,
   "id": "1ace8273",
   "metadata": {},
   "outputs": [],
   "source": [
    "X = sane_in_region[[\"sqfeet\", \"beds\", \"baths\", \"cats_allowed\", \"dogs_allowed\", \"smoking_allowed\", \"wheelchair_access\"]]\n",
    "y = sane_in_region[[\"price\"]]\n",
    "doit(X, y, f\"sane_in_region: sqfeet to price\")"
   ]
  },
  {
   "cell_type": "code",
   "execution_count": null,
   "id": "fd8e0e2b",
   "metadata": {},
   "outputs": [],
   "source": [
    "sane_in_region.shape"
   ]
  },
  {
   "cell_type": "code",
   "execution_count": null,
   "id": "a739e201",
   "metadata": {},
   "outputs": [],
   "source": [
    "sane_in_region_clean = sane_in_region.dropna(axis=0, subset=['lat', 'long'])"
   ]
  },
  {
   "cell_type": "code",
   "execution_count": null,
   "id": "f09013e6",
   "metadata": {},
   "outputs": [],
   "source": [
    "sane_in_region_clean.shape"
   ]
  },
  {
   "cell_type": "code",
   "execution_count": null,
   "id": "fe107681",
   "metadata": {},
   "outputs": [],
   "source": [
    "X = sane_in_region_clean[[\"sqfeet\", \"beds\", \"baths\", \"cats_allowed\", \"dogs_allowed\", \"smoking_allowed\", \"wheelchair_access\", \"lat\", \"long\"]]\n",
    "y = sane_in_region_clean[[\"price\"]]\n",
    "doit(X, y, f\"sane_in_region: sqfeet to price\")"
   ]
  },
  {
   "cell_type": "code",
   "execution_count": null,
   "id": "c33a401d",
   "metadata": {},
   "outputs": [],
   "source": [
    "fields = [\"sqfeet\", \"beds\", \"baths\", \"cats_allowed\", \"dogs_allowed\", \"smoking_allowed\", \"wheelchair_access\", \"lat\", \"long\"]\n",
    "df_clean = df.dropna(axis=0, subset=fields)\n",
    "X = df_clean[fields]\n",
    "y = df_clean[[\"price\"]]\n",
    "doit(X, y, f\"sane_in_region: sqfeet to price\")"
   ]
  },
  {
   "cell_type": "code",
   "execution_count": null,
   "id": "0fb03bd1",
   "metadata": {},
   "outputs": [],
   "source": [
    "fields = [\"sqfeet\", \"beds\", \"baths\", \"cats_allowed\", \"dogs_allowed\", \"smoking_allowed\", \"wheelchair_access\", \"lat\", \"long\"]\n",
    "sane_clean = sane.dropna(axis=0, subset=fields)\n",
    "X = sane_clean[fields]\n",
    "y = sane_clean[[\"price\"]]\n",
    "x_model = doit(X, y, f\"sane_in_region: sqfeet to price\")"
   ]
  },
  {
   "cell_type": "code",
   "execution_count": null,
   "id": "3dc88d55",
   "metadata": {},
   "outputs": [],
   "source": [
    "x_model.predict(sane_clean[fields].head(20)) - sane_clean.head(20)[\"price\"]"
   ]
  }
 ],
 "metadata": {
  "kernelspec": {
   "display_name": "Python 3 (ipykernel)",
   "language": "python",
   "name": "python3"
  },
  "language_info": {
   "codemirror_mode": {
    "name": "ipython",
    "version": 3
   },
   "file_extension": ".py",
   "mimetype": "text/x-python",
   "name": "python",
   "nbconvert_exporter": "python",
   "pygments_lexer": "ipython3",
   "version": "3.9.7"
  }
 },
 "nbformat": 4,
 "nbformat_minor": 5
}
