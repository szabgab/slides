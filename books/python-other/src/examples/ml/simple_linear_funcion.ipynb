{
 "cells": [
  {
   "cell_type": "markdown",
   "id": "4de17ed6-f936-449d-a127-192fe387a6a2",
   "metadata": {},
   "source": [
    "Linear"
   ]
  },
  {
   "cell_type": "code",
   "execution_count": 111,
   "id": "20508655-42a9-4c8d-ac50-f5f0a2d5f798",
   "metadata": {},
   "outputs": [
    {
     "name": "stdout",
     "output_type": "stream",
     "text": [
      "Requirement already satisfied: seaborn in /home/gabor/venv/lib/python3.12/site-packages (0.13.2)\n",
      "Requirement already satisfied: scikit-learn in /home/gabor/venv/lib/python3.12/site-packages (1.5.0)\n",
      "Requirement already satisfied: pandas in /home/gabor/venv/lib/python3.12/site-packages (2.2.2)\n",
      "Requirement already satisfied: numpy in /home/gabor/venv/lib/python3.12/site-packages (2.1.3)\n",
      "Requirement already satisfied: matplotlib in /home/gabor/venv/lib/python3.12/site-packages (3.9.2)\n",
      "Requirement already satisfied: scipy>=1.6.0 in /home/gabor/venv/lib/python3.12/site-packages (from scikit-learn) (1.13.1)\n",
      "Requirement already satisfied: joblib>=1.2.0 in /home/gabor/venv/lib/python3.12/site-packages (from scikit-learn) (1.4.2)\n",
      "Requirement already satisfied: threadpoolctl>=3.1.0 in /home/gabor/venv/lib/python3.12/site-packages (from scikit-learn) (3.5.0)\n",
      "Requirement already satisfied: python-dateutil>=2.8.2 in /home/gabor/venv/lib/python3.12/site-packages (from pandas) (2.9.0.post0)\n",
      "Requirement already satisfied: pytz>=2020.1 in /home/gabor/venv/lib/python3.12/site-packages (from pandas) (2024.1)\n",
      "Requirement already satisfied: tzdata>=2022.7 in /home/gabor/venv/lib/python3.12/site-packages (from pandas) (2024.1)\n",
      "Requirement already satisfied: contourpy>=1.0.1 in /home/gabor/venv/lib/python3.12/site-packages (from matplotlib) (1.2.1)\n",
      "Requirement already satisfied: cycler>=0.10 in /home/gabor/venv/lib/python3.12/site-packages (from matplotlib) (0.12.1)\n",
      "Requirement already satisfied: fonttools>=4.22.0 in /home/gabor/venv/lib/python3.12/site-packages (from matplotlib) (4.52.4)\n",
      "Requirement already satisfied: kiwisolver>=1.3.1 in /home/gabor/venv/lib/python3.12/site-packages (from matplotlib) (1.4.5)\n",
      "Requirement already satisfied: packaging>=20.0 in /home/gabor/venv/lib/python3.12/site-packages (from matplotlib) (24.0)\n",
      "Requirement already satisfied: pillow>=8 in /home/gabor/venv/lib/python3.12/site-packages (from matplotlib) (10.3.0)\n",
      "Requirement already satisfied: pyparsing>=2.3.1 in /home/gabor/venv/lib/python3.12/site-packages (from matplotlib) (3.1.2)\n",
      "Requirement already satisfied: six>=1.5 in /home/gabor/venv/lib/python3.12/site-packages (from python-dateutil>=2.8.2->pandas) (1.16.0)\n"
     ]
    }
   ],
   "source": [
    "!pip install seaborn scikit-learn pandas numpy matplotlib"
   ]
  },
  {
   "cell_type": "code",
   "execution_count": 112,
   "id": "8e5507fb-aea8-4ef8-82cf-17cde95f9ebb",
   "metadata": {},
   "outputs": [],
   "source": [
    "import pandas as pd\n",
    "import numpy as np\n",
    "import matplotlib.pyplot as plt\n",
    "import seaborn as sns\n",
    "from sklearn.model_selection import train_test_split\n",
    "from sklearn import linear_model\n",
    "#from sklearn.svm import SVC\n",
    "from sklearn.metrics import classification_report\n",
    "\n",
    "np.random.seed(123)"
   ]
  },
  {
   "cell_type": "code",
   "execution_count": 113,
   "id": "b287be03-323c-4dce-90a9-5c94fa293f2a",
   "metadata": {},
   "outputs": [],
   "source": [
    "df = pd.read_csv(\"simple_linear_data.csv\")"
   ]
  },
  {
   "cell_type": "code",
   "execution_count": 114,
   "id": "d451b566-b23c-433c-8d37-f2baf88c9776",
   "metadata": {},
   "outputs": [
    {
     "data": {
      "text/html": [
       "<div>\n",
       "<style scoped>\n",
       "    .dataframe tbody tr th:only-of-type {\n",
       "        vertical-align: middle;\n",
       "    }\n",
       "\n",
       "    .dataframe tbody tr th {\n",
       "        vertical-align: top;\n",
       "    }\n",
       "\n",
       "    .dataframe thead th {\n",
       "        text-align: right;\n",
       "    }\n",
       "</style>\n",
       "<table border=\"1\" class=\"dataframe\">\n",
       "  <thead>\n",
       "    <tr style=\"text-align: right;\">\n",
       "      <th></th>\n",
       "      <th>x</th>\n",
       "      <th>y</th>\n",
       "    </tr>\n",
       "  </thead>\n",
       "  <tbody>\n",
       "    <tr>\n",
       "      <th>0</th>\n",
       "      <td>10</td>\n",
       "      <td>3.1</td>\n",
       "    </tr>\n",
       "    <tr>\n",
       "      <th>1</th>\n",
       "      <td>20</td>\n",
       "      <td>3.2</td>\n",
       "    </tr>\n",
       "    <tr>\n",
       "      <th>2</th>\n",
       "      <td>30</td>\n",
       "      <td>3.3</td>\n",
       "    </tr>\n",
       "    <tr>\n",
       "      <th>3</th>\n",
       "      <td>40</td>\n",
       "      <td>3.4</td>\n",
       "    </tr>\n",
       "    <tr>\n",
       "      <th>4</th>\n",
       "      <td>50</td>\n",
       "      <td>3.5</td>\n",
       "    </tr>\n",
       "  </tbody>\n",
       "</table>\n",
       "</div>"
      ],
      "text/plain": [
       "    x    y\n",
       "0  10  3.1\n",
       "1  20  3.2\n",
       "2  30  3.3\n",
       "3  40  3.4\n",
       "4  50  3.5"
      ]
     },
     "execution_count": 114,
     "metadata": {},
     "output_type": "execute_result"
    }
   ],
   "source": [
    "df"
   ]
  },
  {
   "cell_type": "code",
   "execution_count": 115,
   "id": "18ab0069-cd7e-495a-9303-7c20487e0b19",
   "metadata": {},
   "outputs": [
    {
     "data": {
      "image/png": "[encoded data removed]",
      "text/plain": [
       "<Figure size 640x480 with 1 Axes>"
      ]
     },
     "metadata": {},
     "output_type": "display_data"
    }
   ],
   "source": [
    "df.plot(x=\"x\", y=\"y\", kind=\"scatter\");"
   ]
  },
  {
   "cell_type": "code",
   "execution_count": 116,
   "id": "da10b5b6-99a5-4c50-b37b-d38f4e37c4de",
   "metadata": {},
   "outputs": [
    {
     "name": "stdout",
     "output_type": "stream",
     "text": [
      "x_train:\n",
      "    x\n",
      "4  50\n",
      "0  10\n",
      "2  30\n",
      "y_train:\n",
      "4    3.5\n",
      "0    3.1\n",
      "2    3.3\n",
      "Name: y, dtype: float64\n",
      "--\n",
      "x_test:\n",
      "    x\n",
      "1  20\n",
      "3  40\n",
      "y_test:\n",
      "1    3.2\n",
      "3    3.4\n",
      "Name: y, dtype: float64\n",
      "LinearRegression()\n",
      "train accuracy: 1.0\n",
      "test accuracy: 1.0\n"
     ]
    }
   ],
   "source": [
    "y = df[\"y\"]\n",
    "X = df[[\"x\"]]\n",
    "x_train, x_test, y_train, y_test = train_test_split(X, y)\n",
    "print(f\"x_train:\\n{x_train}\")\n",
    "print(f\"y_train:\\n{y_train}\")\n",
    "print(\"--\")\n",
    "print(f\"x_test:\\n{x_test}\")\n",
    "print(f\"y_test:\\n{y_test}\")\n",
    "model = linear_model.LinearRegression()\n",
    "print(model)\n",
    "model.fit(x_train, y_train)\n",
    "\n",
    "print('train accuracy:', model.score(x_train, y_train))\n",
    "print('test accuracy:', model.score(x_test, y_test))"
   ]
  },
  {
   "cell_type": "code",
   "execution_count": 117,
   "id": "d64f753d-248d-4db0-a909-7b57470a3b52",
   "metadata": {},
   "outputs": [
    {
     "name": "stdout",
     "output_type": "stream",
     "text": [
      "[3.2 3.4]\n"
     ]
    }
   ],
   "source": [
    "y_prediction = model.predict(x_test)\n",
    "print(y_prediction)\n",
    "#print('test classification report:')\n",
    "#print(classification_report(y_test, y_prediction))"
   ]
  },
  {
   "cell_type": "code",
   "execution_count": 118,
   "id": "b1dbdf64-88ef-4583-8bff-66c886b5d8ee",
   "metadata": {},
   "outputs": [
    {
     "name": "stdout",
     "output_type": "stream",
     "text": [
      "coef: [0.01] intercept: 2.9999999999999996\n"
     ]
    }
   ],
   "source": [
    "print(f\"coef: {model.coef_} intercept: {model.intercept_}\")"
   ]
  },
  {
   "cell_type": "code",
   "execution_count": null,
   "id": "dfce12b9-655b-4844-ae85-01bc4d5bd5c0",
   "metadata": {},
   "outputs": [],
   "source": [
    "g =sns.scatterplot(x=\"x\",\n",
    "                   y=\"y\",\n",
    "                   data=df,\n",
    "                );\n",
    "\n",
    "x1 = 1\n",
    "x2 = 2\n",
    "y1 = model.coef_[0] * x1 + model.intercept_\n",
    "y2 = model.coef_[0] * x2 + model.intercept_\n",
    "print(f\"{x1}, {y1}\")\n",
    "print(f\"{x2}, {y2}\")\n",
    "\n",
    "plt.axline((x1, y1), (x2, y2), color = \"green\");"
   ]
  }
 ],
 "metadata": {
  "kernelspec": {
   "display_name": "Python 3 (ipykernel)",
   "language": "python",
   "name": "python3"
  },
  "language_info": {
   "codemirror_mode": {
    "name": "ipython",
    "version": 3
   },
   "file_extension": ".py",
   "mimetype": "text/x-python",
   "name": "python",
   "nbconvert_exporter": "python",
   "pygments_lexer": "ipython3",
   "version": "3.12.7"
  }
 },
 "nbformat": 4,
 "nbformat_minor": 5
}
