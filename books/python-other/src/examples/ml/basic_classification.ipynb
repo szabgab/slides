{
 "cells": [
  {
   "cell_type": "code",
   "execution_count": null,
   "id": "e677d8ec",
   "metadata": {},
   "outputs": [],
   "source": [
    "import numpy as np\n",
    "from sklearn.linear_model import LogisticRegression\n",
    "from sklearn.svm import SVC\n",
    "from sklearn.metrics import confusion_matrix"
   ]
  },
  {
   "cell_type": "code",
   "execution_count": null,
   "id": "bf308a35",
   "metadata": {},
   "outputs": [],
   "source": [
    "data = np.array([[3, \"snake\"], [3.3, \"snake\"],  [3.7, \"snake\"], [4.1, \"elephant\"], [4.8, \"elephant\"]])"
   ]
  },
  {
   "cell_type": "code",
   "execution_count": null,
   "id": "ef64d360",
   "metadata": {},
   "outputs": [],
   "source": [
    "data"
   ]
  },
  {
   "cell_type": "code",
   "execution_count": null,
   "id": "c37bb4a4",
   "metadata": {},
   "outputs": [],
   "source": [
    "tr = np.transpose(data)\n",
    "X = tr[0].astype('float32').reshape(-1, 1)\n",
    "X"
   ]
  },
  {
   "cell_type": "code",
   "execution_count": null,
   "id": "fd37749a",
   "metadata": {},
   "outputs": [],
   "source": [
    "y = tr[1]\n",
    "y"
   ]
  },
  {
   "cell_type": "code",
   "execution_count": null,
   "id": "b240fe97",
   "metadata": {},
   "outputs": [],
   "source": [
    "model = LogisticRegression()\n",
    "model.fit(X, y)"
   ]
  },
  {
   "cell_type": "code",
   "execution_count": null,
   "id": "f5b77073",
   "metadata": {},
   "outputs": [],
   "source": [
    "model.intercept_"
   ]
  },
  {
   "cell_type": "code",
   "execution_count": null,
   "id": "6e3b10c3",
   "metadata": {},
   "outputs": [],
   "source": [
    "model.coef_"
   ]
  },
  {
   "cell_type": "code",
   "execution_count": null,
   "id": "b7914bea",
   "metadata": {},
   "outputs": [],
   "source": [
    "print('coefficient of determination:', model.score(X, y))"
   ]
  },
  {
   "cell_type": "code",
   "execution_count": null,
   "id": "d80f6740",
   "metadata": {},
   "outputs": [],
   "source": [
    " confusion_matrix(y, model.predict(X))"
   ]
  },
  {
   "cell_type": "code",
   "execution_count": null,
   "id": "0bb0c0b6",
   "metadata": {},
   "outputs": [],
   "source": [
    "model.predict([[1], [3], [3.5], [3.8], [3.9], [4.0], [4.1], [4.2], [4.3], [17]])"
   ]
  },
  {
   "cell_type": "markdown",
   "id": "12c83fcf",
   "metadata": {},
   "source": [
    "## C-Support Vector Classification\n",
    "\n",
    "[SVC](https://scikit-learn.org/stable/modules/generated/sklearn.svm.SVC.html)"
   ]
  },
  {
   "cell_type": "code",
   "execution_count": null,
   "id": "581ba26c",
   "metadata": {},
   "outputs": [],
   "source": [
    "svc_model = SVC()\n",
    "svc_model.fit(X, y)"
   ]
  },
  {
   "cell_type": "code",
   "execution_count": null,
   "id": "4eb360cb",
   "metadata": {},
   "outputs": [],
   "source": [
    "print('coefficient of determination:', svc_model.score(X, y))"
   ]
  },
  {
   "cell_type": "code",
   "execution_count": null,
   "id": "5dd90bab",
   "metadata": {},
   "outputs": [],
   "source": [
    "svc_model.predict([[1], [3], [3.5], [3.8], [3.9], [4.0], [4.1], [4.2], [4.3], [17]])"
   ]
  }
 ],
 "metadata": {
  "kernelspec": {
   "display_name": "Python 3 (ipykernel)",
   "language": "python",
   "name": "python3"
  },
  "language_info": {
   "codemirror_mode": {
    "name": "ipython",
    "version": 3
   },
   "file_extension": ".py",
   "mimetype": "text/x-python",
   "name": "python",
   "nbconvert_exporter": "python",
   "pygments_lexer": "ipython3",
   "version": "3.9.7"
  }
 },
 "nbformat": 4,
 "nbformat_minor": 5
}
