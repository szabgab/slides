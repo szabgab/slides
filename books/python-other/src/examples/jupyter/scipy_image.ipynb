{
 "cells": [
  {
   "cell_type": "code",
   "execution_count": null,
   "metadata": {},
   "outputs": [],
   "source": [
    "import scipy.misc\n",
    "import matplotlib.pyplot as plt\n",
    "import numpy as np"
   ]
  },
  {
   "cell_type": "code",
   "execution_count": null,
   "metadata": {},
   "outputs": [],
   "source": [
    "face = scipy.misc.face()\n",
    "plt.imshow(face)\n",
    "#plt.show()"
   ]
  },
  {
   "cell_type": "code",
   "execution_count": null,
   "metadata": {},
   "outputs": [],
   "source": [
    "dir(scipy.misc)"
   ]
  },
  {
   "cell_type": "code",
   "execution_count": null,
   "metadata": {},
   "outputs": [],
   "source": [
    "type(face)"
   ]
  },
  {
   "cell_type": "code",
   "execution_count": null,
   "metadata": {},
   "outputs": [],
   "source": [
    "face.shape"
   ]
  },
  {
   "cell_type": "code",
   "execution_count": null,
   "metadata": {},
   "outputs": [],
   "source": [
    "g = np.copy(face)\n",
    "#g[100] = 0     # one pixel width black horizontal line\n",
    "#g[100:110] = 0 # wider line\n",
    "#g[100:110] = 255 # white line\n",
    "# g[::20] = 0 # every 20th row\n",
    "\n",
    "# The 3 rows together proved the level of RGB so 0, 0, 255 will be blue\n",
    "#g[100:110,:,0] = 0   # Red\n",
    "#g[100:110,:,1] = 0   # Green\n",
    "#g[100:110,:,2] = 255 # Blue\n",
    "\n",
    "# The same in one command:\n",
    "#g[100:110,:,] = [255,0,0] # Red\n",
    "\n",
    "# Vertical line\n",
    "#g[:,100:110,] = [255,0,0] # Red\n",
    "\n",
    "#g[100:110,100:110,] = [255,0,0] # Red\n",
    "# g = np.copy(face[200:500, 400:800]) # a section of the image\n",
    "\n",
    "# color = [255,0,0] # Red\n",
    "# g[200:500,400:405,] = color\n",
    "# g[200:500,800:805,] = color\n",
    "# g[200:205,400:800,] = color\n",
    "# g[500:505,400:800,] = color\n",
    "\n",
    "plt.imshow(g)"
   ]
  },
  {
   "cell_type": "code",
   "execution_count": null,
   "metadata": {},
   "outputs": [],
   "source": [
    "# TODO: find the max values of the image"
   ]
  }
 ],
 "metadata": {
  "kernelspec": {
   "display_name": "Python 3",
   "language": "python",
   "name": "python3"
  },
  "language_info": {
   "codemirror_mode": {
    "name": "ipython",
    "version": 3
   },
   "file_extension": ".py",
   "mimetype": "text/x-python",
   "name": "python",
   "nbconvert_exporter": "python",
   "pygments_lexer": "ipython3",
   "version": "3.8.6"
  }
 },
 "nbformat": 4,
 "nbformat_minor": 2
}
