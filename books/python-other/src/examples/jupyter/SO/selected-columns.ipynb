{
 "cells": [
  {
   "cell_type": "code",
   "execution_count": null,
   "metadata": {},
   "outputs": [],
   "source": [
    "import pandas as pd\n",
    "import matplotlib.pyplot as plt\n",
    "import seaborn as sns"
   ]
  },
  {
   "cell_type": "code",
   "execution_count": null,
   "metadata": {},
   "outputs": [],
   "source": [
    "df = pd.read_csv('survey_results_public.csv', usecols=['Country', 'OpenSourcer', 'CompTotal'])"
   ]
  },
  {
   "cell_type": "code",
   "execution_count": null,
   "metadata": {},
   "outputs": [],
   "source": [
    "df.size"
   ]
  },
  {
   "cell_type": "code",
   "execution_count": null,
   "metadata": {},
   "outputs": [],
   "source": [
    "df.count()"
   ]
  },
  {
   "cell_type": "code",
   "execution_count": null,
   "metadata": {},
   "outputs": [],
   "source": [
    "df.info()"
   ]
  },
  {
   "cell_type": "code",
   "execution_count": null,
   "metadata": {},
   "outputs": [],
   "source": [
    "df.describe()"
   ]
  },
  {
   "cell_type": "code",
   "execution_count": null,
   "metadata": {},
   "outputs": [],
   "source": [
    "df.head(3)"
   ]
  },
  {
   "cell_type": "code",
   "execution_count": null,
   "metadata": {},
   "outputs": [],
   "source": [
    "country_count = df['Country'].value_counts()\n",
    "country_count\n"
   ]
  },
  {
   "cell_type": "code",
   "execution_count": null,
   "metadata": {},
   "outputs": [],
   "source": [
    "df['OpenSourcer'].unique()"
   ]
  },
  {
   "cell_type": "code",
   "execution_count": null,
   "metadata": {},
   "outputs": [],
   "source": [
    "type(country_count) # pandas.core.series.Series\n",
    "# country_count.__class__.__name__  # Series"
   ]
  },
  {
   "cell_type": "code",
   "execution_count": null,
   "metadata": {},
   "outputs": [],
   "source": [
    "# We can use it either as a dictionary or as a list\n",
    "country_count['United States'] # 20949\n",
    "# country_count[0] # 20949\n",
    "# country_count['Israel']"
   ]
  },
  {
   "cell_type": "code",
   "execution_count": null,
   "metadata": {},
   "outputs": [],
   "source": [
    "# Take the top 20 countries\n",
    "first20 = country_count.head(20)\n",
    "first20\n",
    "# type(first20) # Series\n",
    "\n",
    "# first20 = country_count.iloc[0:20] # part of the Series\n",
    "# first20\n",
    "# type(first20) # Series\n",
    "\n",
    "#first20 = country_count[0:20]\n",
    "# first20\n",
    "# type(first20) # Series"
   ]
  },
  {
   "cell_type": "code",
   "execution_count": null,
   "metadata": {},
   "outputs": [],
   "source": [
    "first20.hist(bins = 20)"
   ]
  },
  {
   "cell_type": "code",
   "execution_count": null,
   "metadata": {},
   "outputs": [],
   "source": [
    "plot = sns.relplot(data = first20)\n",
    "plot.set_xticklabels(rotation=90)"
   ]
  },
  {
   "cell_type": "code",
   "execution_count": null,
   "metadata": {},
   "outputs": [],
   "source": [
    "df['OpenSourcer'].unique()"
   ]
  },
  {
   "cell_type": "code",
   "execution_count": null,
   "metadata": {},
   "outputs": [],
   "source": [
    "nd = df.replace({'OpenSourcer' : {\n",
    "        'Never' : 0,\n",
    "        'Less than once per year' : 1,\n",
    "        'Less than once a month but more than once per year' : 2,\n",
    "        'Once a month or more often' : 3,\n",
    "       } })\n",
    "nd"
   ]
  },
  {
   "cell_type": "code",
   "execution_count": null,
   "metadata": {},
   "outputs": [],
   "source": [
    "nd.describe()"
   ]
  },
  {
   "cell_type": "code",
   "execution_count": null,
   "metadata": {},
   "outputs": [],
   "source": [
    "nd.groupby('Country').mean().sort_values('OpenSourcer', ascending=False)"
   ]
  },
  {
   "cell_type": "code",
   "execution_count": null,
   "metadata": {},
   "outputs": [],
   "source": [
    "grp = df.groupby('Country').mean().round({'CompTotal' : 0})\n",
    "#grp['CompTotal']\n",
    "pd.set_option('display.float_format', lambda x: '{:,}'.format(x))\n",
    "grp.sort_values('CompTotal', ascending=False)"
   ]
  },
  {
   "cell_type": "code",
   "execution_count": null,
   "metadata": {},
   "outputs": [],
   "source": [
    "first20.keys()\n"
   ]
  },
  {
   "cell_type": "code",
   "execution_count": null,
   "metadata": {},
   "outputs": [],
   "source": [
    "#df['Country'] == 'Israel'\n",
    "#df [ df['Country'] == 'Israel' ]\n",
    "\n",
    "#df[ df['Country'].isin(['India', 'Israel']) ]\n",
    "#df[ df['Country'].isin( first20.keys() ) ]\n",
    "\n",
    "\n",
    "first10 = country_count.head(10)\n",
    "subset = df[ df['Country'].isin( first10.keys() ) ]\n",
    "# subset.count()\n",
    "\n",
    "#subset['OpenSourcer'].value_counts()\n",
    "grouped = subset.groupby('Country')['OpenSourcer'].value_counts()\n",
    "#grouped.plot.bar(figsize=(15,15))"
   ]
  },
  {
   "cell_type": "code",
   "execution_count": null,
   "metadata": {},
   "outputs": [],
   "source": [
    "#subset.groupby('Country')['OpenSourcer'\n",
    "ct = pd.crosstab(subset['Country'], df['OpenSourcer']).apply(lambda r: 100 * r/r.sum(), axis=1)\n",
    "ct"
   ]
  },
  {
   "cell_type": "code",
   "execution_count": null,
   "metadata": {},
   "outputs": [],
   "source": [
    "ct.transpose().hist(figsize=(15, 15))"
   ]
  },
  {
   "cell_type": "code",
   "execution_count": null,
   "metadata": {},
   "outputs": [],
   "source": [
    "nd_subset = subset = nd[ nd['Country'].isin( first10.keys() ) ]\n",
    "sns.set(style=\"whitegrid\")\n",
    "ax = sns.barplot(x=\"Country\", y=\"OpenSourcer\", data=subset)"
   ]
  },
  {
   "cell_type": "code",
   "execution_count": null,
   "metadata": {},
   "outputs": [],
   "source": [
    "tips = sns.load_dataset(\"tips\")\n",
    "tips.head(5)"
   ]
  },
  {
   "cell_type": "code",
   "execution_count": null,
   "metadata": {},
   "outputs": [],
   "source": [
    "#ax = sns.barplot(x=\"day\", y=\"total_bill\", hue=\"sex\", data=tips)\n",
    "ax = sns.barplot(x=\"day\", y=\"total_bill\", hue=\"sex\", data=tips.head(2))"
   ]
  },
  {
   "cell_type": "code",
   "execution_count": null,
   "metadata": {},
   "outputs": [],
   "source": [
    "my = subset.copy()\n",
    "my['cnt'] = 1\n",
    "my.head(5)"
   ]
  },
  {
   "cell_type": "code",
   "execution_count": null,
   "metadata": {},
   "outputs": [],
   "source": [
    "plt.figure(figsize=(16, 6))\n",
    "ax = sns.barplot(x=\"Country\", y=\"cnt\", hue=\"OpenSourcer\", data=my.head(100))\n",
    "#ax.set_xticklabels(rotation=90)"
   ]
  }
 ],
 "metadata": {
  "kernelspec": {
   "display_name": "Python 3",
   "language": "python",
   "name": "python3"
  },
  "language_info": {
   "codemirror_mode": {
    "name": "ipython",
    "version": 3
   },
   "file_extension": ".py",
   "mimetype": "text/x-python",
   "name": "python",
   "nbconvert_exporter": "python",
   "pygments_lexer": "ipython3",
   "version": "3.7.3"
  }
 },
 "nbformat": 4,
 "nbformat_minor": 2
}
