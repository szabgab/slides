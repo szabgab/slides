{
 "cells": [
  {
   "cell_type": "code",
   "execution_count": 2,
   "metadata": {},
   "outputs": [],
   "source": [
    "import pandas as pd\n",
    "import numpy as np"
   ]
  },
  {
   "cell_type": "code",
   "execution_count": 5,
   "metadata": {},
   "outputs": [],
   "source": [
    "# File is not available any more. Don't try to load it.\n",
    "df = pd.read_excel('../../raw_data_200000.xlsx', index_col='genome name')"
   ]
  },
  {
   "cell_type": "code",
   "execution_count": 9,
   "metadata": {},
   "outputs": [
    {
     "data": {
      "text/html": [
       "<div>\n",
       "<style scoped>\n",
       "    .dataframe tbody tr th:only-of-type {\n",
       "        vertical-align: middle;\n",
       "    }\n",
       "\n",
       "    .dataframe tbody tr th {\n",
       "        vertical-align: top;\n",
       "    }\n",
       "\n",
       "    .dataframe thead th {\n",
       "        text-align: right;\n",
       "    }\n",
       "</style>\n",
       "<table border=\"1\" class=\"dataframe\">\n",
       "  <thead>\n",
       "    <tr style=\"text-align: right;\">\n",
       "      <th></th>\n",
       "      <th>m0</th>\n",
       "      <th>m1</th>\n",
       "      <th>m2</th>\n",
       "      <th>m3</th>\n",
       "      <th>m4</th>\n",
       "      <th>m5</th>\n",
       "    </tr>\n",
       "    <tr>\n",
       "      <th>genome name</th>\n",
       "      <th></th>\n",
       "      <th></th>\n",
       "      <th></th>\n",
       "      <th></th>\n",
       "      <th></th>\n",
       "      <th></th>\n",
       "    </tr>\n",
       "  </thead>\n",
       "  <tbody>\n",
       "    <tr>\n",
       "      <th>g0</th>\n",
       "      <td>0.009766</td>\n",
       "      <td>0.689594</td>\n",
       "      <td>0.969415</td>\n",
       "      <td>0.563877</td>\n",
       "      <td>0.785240</td>\n",
       "      <td>0.744870</td>\n",
       "    </tr>\n",
       "    <tr>\n",
       "      <th>g1</th>\n",
       "      <td>0.639084</td>\n",
       "      <td>0.566487</td>\n",
       "      <td>0.348009</td>\n",
       "      <td>0.238454</td>\n",
       "      <td>0.155803</td>\n",
       "      <td>0.860839</td>\n",
       "    </tr>\n",
       "    <tr>\n",
       "      <th>g2</th>\n",
       "      <td>0.862500</td>\n",
       "      <td>0.577220</td>\n",
       "      <td>0.226000</td>\n",
       "      <td>0.992618</td>\n",
       "      <td>0.439043</td>\n",
       "      <td>0.526381</td>\n",
       "    </tr>\n",
       "    <tr>\n",
       "      <th>g3</th>\n",
       "      <td>0.067527</td>\n",
       "      <td>0.038798</td>\n",
       "      <td>0.636320</td>\n",
       "      <td>0.795348</td>\n",
       "      <td>0.176226</td>\n",
       "      <td>0.125150</td>\n",
       "    </tr>\n",
       "    <tr>\n",
       "      <th>g4</th>\n",
       "      <td>0.281982</td>\n",
       "      <td>0.562474</td>\n",
       "      <td>0.897276</td>\n",
       "      <td>0.837457</td>\n",
       "      <td>0.208897</td>\n",
       "      <td>0.672577</td>\n",
       "    </tr>\n",
       "  </tbody>\n",
       "</table>\n",
       "</div>"
      ],
      "text/plain": [
       "                   m0        m1        m2        m3        m4        m5\n",
       "genome name                                                            \n",
       "g0           0.009766  0.689594  0.969415  0.563877  0.785240  0.744870\n",
       "g1           0.639084  0.566487  0.348009  0.238454  0.155803  0.860839\n",
       "g2           0.862500  0.577220  0.226000  0.992618  0.439043  0.526381\n",
       "g3           0.067527  0.038798  0.636320  0.795348  0.176226  0.125150\n",
       "g4           0.281982  0.562474  0.897276  0.837457  0.208897  0.672577"
      ]
     },
     "execution_count": 9,
     "metadata": {},
     "output_type": "execute_result"
    }
   ],
   "source": [
    "df.head()"
   ]
  },
  {
   "cell_type": "code",
   "execution_count": 10,
   "metadata": {},
   "outputs": [],
   "source": [
    "def calculate_averages(df):\n",
    "    v1 = df.iloc[:, :3].mean(axis=1)\n",
    "    v2 = df.iloc[:, 3:7].mean(axis=1)\n",
    "    return np.log2(v1/v2)"
   ]
  },
  {
   "cell_type": "code",
   "execution_count": 11,
   "metadata": {},
   "outputs": [],
   "source": [
    "calculated_value = calculate_averages(df)"
   ]
  },
  {
   "cell_type": "code",
   "execution_count": 12,
   "metadata": {},
   "outputs": [
    {
     "data": {
      "text/plain": [
       "genome name\n",
       "g0   -0.327464\n",
       "g1    0.307799\n",
       "g2   -0.233266\n",
       "g3   -0.562457\n",
       "g4    0.019012\n",
       "dtype: float64"
      ]
     },
     "execution_count": 12,
     "metadata": {},
     "output_type": "execute_result"
    }
   ],
   "source": [
    "calculated_value.head()"
   ]
  },
  {
   "cell_type": "code",
   "execution_count": 16,
   "metadata": {},
   "outputs": [],
   "source": [
    "df['calc'] = calculated_value"
   ]
  },
  {
   "cell_type": "code",
   "execution_count": 17,
   "metadata": {},
   "outputs": [],
   "source": [
    "threshold = 0.2\n",
    "filtered_df = df[calculated_value > threshold]"
   ]
  },
  {
   "cell_type": "code",
   "execution_count": 18,
   "metadata": {},
   "outputs": [
    {
     "data": {
      "text/html": [
       "<div>\n",
       "<style scoped>\n",
       "    .dataframe tbody tr th:only-of-type {\n",
       "        vertical-align: middle;\n",
       "    }\n",
       "\n",
       "    .dataframe tbody tr th {\n",
       "        vertical-align: top;\n",
       "    }\n",
       "\n",
       "    .dataframe thead th {\n",
       "        text-align: right;\n",
       "    }\n",
       "</style>\n",
       "<table border=\"1\" class=\"dataframe\">\n",
       "  <thead>\n",
       "    <tr style=\"text-align: right;\">\n",
       "      <th></th>\n",
       "      <th>m0</th>\n",
       "      <th>m1</th>\n",
       "      <th>m2</th>\n",
       "      <th>m3</th>\n",
       "      <th>m4</th>\n",
       "      <th>m5</th>\n",
       "      <th>calc</th>\n",
       "    </tr>\n",
       "    <tr>\n",
       "      <th>genome name</th>\n",
       "      <th></th>\n",
       "      <th></th>\n",
       "      <th></th>\n",
       "      <th></th>\n",
       "      <th></th>\n",
       "      <th></th>\n",
       "      <th></th>\n",
       "    </tr>\n",
       "  </thead>\n",
       "  <tbody>\n",
       "    <tr>\n",
       "      <th>g1</th>\n",
       "      <td>0.639084</td>\n",
       "      <td>0.566487</td>\n",
       "      <td>0.348009</td>\n",
       "      <td>0.238454</td>\n",
       "      <td>0.155803</td>\n",
       "      <td>0.860839</td>\n",
       "      <td>0.307799</td>\n",
       "    </tr>\n",
       "    <tr>\n",
       "      <th>g5</th>\n",
       "      <td>0.748524</td>\n",
       "      <td>0.687619</td>\n",
       "      <td>0.108258</td>\n",
       "      <td>0.132476</td>\n",
       "      <td>0.162429</td>\n",
       "      <td>0.758822</td>\n",
       "      <td>0.551546</td>\n",
       "    </tr>\n",
       "    <tr>\n",
       "      <th>g6</th>\n",
       "      <td>0.455394</td>\n",
       "      <td>0.969475</td>\n",
       "      <td>0.625416</td>\n",
       "      <td>0.448158</td>\n",
       "      <td>0.384430</td>\n",
       "      <td>0.021970</td>\n",
       "      <td>1.262574</td>\n",
       "    </tr>\n",
       "    <tr>\n",
       "      <th>g9</th>\n",
       "      <td>0.994717</td>\n",
       "      <td>0.785084</td>\n",
       "      <td>0.510142</td>\n",
       "      <td>0.232240</td>\n",
       "      <td>0.185904</td>\n",
       "      <td>0.660602</td>\n",
       "      <td>1.085956</td>\n",
       "    </tr>\n",
       "    <tr>\n",
       "      <th>g10</th>\n",
       "      <td>0.524984</td>\n",
       "      <td>0.523317</td>\n",
       "      <td>0.024237</td>\n",
       "      <td>0.285896</td>\n",
       "      <td>0.054879</td>\n",
       "      <td>0.504603</td>\n",
       "      <td>0.343360</td>\n",
       "    </tr>\n",
       "  </tbody>\n",
       "</table>\n",
       "</div>"
      ],
      "text/plain": [
       "                   m0        m1        m2        m3        m4        m5  \\\n",
       "genome name                                                               \n",
       "g1           0.639084  0.566487  0.348009  0.238454  0.155803  0.860839   \n",
       "g5           0.748524  0.687619  0.108258  0.132476  0.162429  0.758822   \n",
       "g6           0.455394  0.969475  0.625416  0.448158  0.384430  0.021970   \n",
       "g9           0.994717  0.785084  0.510142  0.232240  0.185904  0.660602   \n",
       "g10          0.524984  0.523317  0.024237  0.285896  0.054879  0.504603   \n",
       "\n",
       "                 calc  \n",
       "genome name            \n",
       "g1           0.307799  \n",
       "g5           0.551546  \n",
       "g6           1.262574  \n",
       "g9           1.085956  \n",
       "g10          0.343360  "
      ]
     },
     "execution_count": 18,
     "metadata": {},
     "output_type": "execute_result"
    }
   ],
   "source": [
    "filtered_df.head()"
   ]
  },
  {
   "cell_type": "code",
   "execution_count": 21,
   "metadata": {},
   "outputs": [
    {
     "data": {
      "text/plain": [
       "m0      77629\n",
       "m1      77629\n",
       "m2      77629\n",
       "m3      77629\n",
       "m4      77629\n",
       "m5      77629\n",
       "calc    77629\n",
       "dtype: int64"
      ]
     },
     "execution_count": 21,
     "metadata": {},
     "output_type": "execute_result"
    }
   ],
   "source": [
    "filtered_df.count()"
   ]
  },
  {
   "cell_type": "code",
   "execution_count": 22,
   "metadata": {},
   "outputs": [
    {
     "data": {
      "text/plain": [
       "77629"
      ]
     },
     "execution_count": 22,
     "metadata": {},
     "output_type": "execute_result"
    }
   ],
   "source": [
    "filtered_df.m0.count()"
   ]
  },
  {
   "cell_type": "code",
   "execution_count": null,
   "metadata": {},
   "outputs": [],
   "source": []
  }
 ],
 "metadata": {
  "kernelspec": {
   "display_name": "Python 3",
   "language": "python",
   "name": "python3"
  },
  "language_info": {
   "codemirror_mode": {
    "name": "ipython",
    "version": 3
   },
   "file_extension": ".py",
   "mimetype": "text/x-python",
   "name": "python",
   "nbconvert_exporter": "python",
   "pygments_lexer": "ipython3",
   "version": "3.8.6"
  }
 },
 "nbformat": 4,
 "nbformat_minor": 2
}
