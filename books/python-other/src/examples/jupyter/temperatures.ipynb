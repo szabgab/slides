{
 "cells": [
  {
   "cell_type": "code",
   "execution_count": null,
   "metadata": {},
   "outputs": [],
   "source": [
    "import seaborn as sns\n",
    "import pandas as pd"
   ]
  },
  {
   "cell_type": "code",
   "execution_count": null,
   "metadata": {},
   "outputs": [],
   "source": [
    "df = pd.read_csv('temperatures.csv')"
   ]
  },
  {
   "cell_type": "code",
   "execution_count": null,
   "metadata": {},
   "outputs": [],
   "source": [
    "df.head()"
   ]
  },
  {
   "cell_type": "code",
   "execution_count": null,
   "metadata": {},
   "outputs": [],
   "source": [
    "plot = sns.relplot(\n",
    "    x = \"Time\",\n",
    "    y = \"Tel Aviv\",\n",
    "    #kind = \"line\",  # defaults to \"scatter\"\n",
    "    data = df)"
   ]
  },
  {
   "cell_type": "code",
   "execution_count": null,
   "metadata": {},
   "outputs": [],
   "source": [
    "ta = df.loc[:, ['Time', 'Tel Aviv']]\n",
    "ta[\"Place\"] = 'Tel Aviv'\n",
    "ta['Celsius'] = ta['Tel Aviv']\n",
    "del(ta['Tel Aviv'])\n",
    "ta"
   ]
  },
  {
   "cell_type": "code",
   "execution_count": null,
   "metadata": {},
   "outputs": [],
   "source": [
    "hm = df.loc[:, ['Time', 'Hermon']]\n",
    "hm[\"Place\"] = 'Hermon'\n",
    "hm['Celsius'] = hm['Hermon']\n",
    "del(hm['Hermon'])\n",
    "hm"
   ]
  },
  {
   "cell_type": "code",
   "execution_count": null,
   "metadata": {},
   "outputs": [],
   "source": [
    "tempr = pd.concat([ta, hm], axis=0)\n",
    "tempr"
   ]
  },
  {
   "cell_type": "code",
   "execution_count": null,
   "metadata": {},
   "outputs": [],
   "source": [
    "plot = sns.relplot(\n",
    "    x = \"Time\",\n",
    "    y = \"Celsius\",\n",
    "    #kind = \"line\",\n",
    "    hue = 'Place',\n",
    "    data = tempr)"
   ]
  }
 ],
 "metadata": {
  "kernelspec": {
   "display_name": "Python 3",
   "language": "python",
   "name": "python3"
  },
  "language_info": {
   "codemirror_mode": {
    "name": "ipython",
    "version": 3
   },
   "file_extension": ".py",
   "mimetype": "text/x-python",
   "name": "python",
   "nbconvert_exporter": "python",
   "pygments_lexer": "ipython3",
   "version": "3.7.3"
  }
 },
 "nbformat": 4,
 "nbformat_minor": 2
}
